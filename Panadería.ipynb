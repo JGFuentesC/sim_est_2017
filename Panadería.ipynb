{
 "cells": [
  {
   "cell_type": "code",
   "execution_count": 1,
   "metadata": {
    "collapsed": true
   },
   "outputs": [],
   "source": [
    "import pandas as pd\n",
    "import numpy as np\n",
    "import seaborn as sns\n",
    "import matplotlib.pyplot as plt\n",
    "import random\n",
    "%matplotlib inline"
   ]
  },
  {
   "cell_type": "code",
   "execution_count": 2,
   "metadata": {},
   "outputs": [],
   "source": [
    "df_panes_manana = pd.DataFrame([[10,5],[11,10],[12,20],[13,30],[14,20],[15,10],[16,5]],columns=['x','f'])\n",
    "df_clientes = pd.DataFrame([[5,10],[6,15],[7,20],[8,40],[9,10],[10,5]],columns=['x','f'])\n",
    "df_demanda = pd.DataFrame([[1,40],[2,40],[3,20]],columns=['x','f'])"
   ]
  },
  {
   "cell_type": "code",
   "execution_count": 3,
   "metadata": {},
   "outputs": [
    {
     "name": "stdout",
     "output_type": "stream",
     "text": [
      "1.0\n",
      "1.0\n",
      "1.0\n"
     ]
    }
   ],
   "source": [
    "for df in [df_clientes,df_demanda,df_panes_manana]:\n",
    "    df['p'] = df.f/df.f.sum()\n",
    "    print df.p.sum()"
   ]
  },
  {
   "cell_type": "code",
   "execution_count": 4,
   "metadata": {},
   "outputs": [],
   "source": [
    "def simular(df):\n",
    "    return np.random.choice(df.x,p=df.p)"
   ]
  },
  {
   "cell_type": "code",
   "execution_count": 5,
   "metadata": {},
   "outputs": [],
   "source": [
    "def dia():\n",
    "    pan_disponible = simular(df_panes_manana)\n",
    "    demanda_pan = 0 \n",
    "    for i in range(simular(df_clientes)):\n",
    "        demanda_pan += simular(df_demanda)\n",
    "    if pan_disponible>demanda_pan:\n",
    "        return pan_disponible-demanda_pan,not (pan_disponible>demanda_pan)\n",
    "    elif pan_disponible==demanda_pan:\n",
    "        return 0,False\n",
    "    else:\n",
    "        return 0,True"
   ]
  },
  {
   "cell_type": "code",
   "execution_count": 6,
   "metadata": {},
   "outputs": [],
   "source": [
    "def semana():\n",
    "    lst_sem = []\n",
    "    for i in range(7):\n",
    "        lst_sem.append(dia())\n",
    "    return lst_sem"
   ]
  },
  {
   "cell_type": "code",
   "execution_count": 26,
   "metadata": {},
   "outputs": [
    {
     "name": "stdout",
     "output_type": "stream",
     "text": [
      "panes sobrantes promedio 2.9\n",
      "dias de la semana promedio que falta pan 3.4\n",
      "CPU times: user 1min 3s, sys: 2.31 s, total: 1min 5s\n",
      "Wall time: 1min 5s\n"
     ]
    }
   ],
   "source": [
    "%%time\n",
    "for k in range(10000):\n",
    "    df = pd.DataFrame(semana(),columns=['sobrante','falta'])\n",
    "    df['sem'] = k+1\n",
    "    if k==0:\n",
    "        f = df.copy()\n",
    "    else:\n",
    "        f = pd.concat([f,df],ignore_index=True)\n",
    "\n",
    "aux = f[['falta','sem']].copy()\n",
    "aux.falta = aux.falta.astype(int)\n",
    "\n",
    "print \"panes sobrantes promedio %.1f\" % f[f.sobrante>0]['sobrante'].mean()\n",
    "print \"dias de la semana promedio que falta pan %.1f\" % aux.groupby('sem').sum()['falta'].mean()"
   ]
  },
  {
   "cell_type": "code",
   "execution_count": null,
   "metadata": {
    "collapsed": true
   },
   "outputs": [],
   "source": []
  }
 ],
 "metadata": {
  "kernelspec": {
   "display_name": "Python 2",
   "language": "python",
   "name": "python2"
  },
  "language_info": {
   "codemirror_mode": {
    "name": "ipython",
    "version": 2
   },
   "file_extension": ".py",
   "mimetype": "text/x-python",
   "name": "python",
   "nbconvert_exporter": "python",
   "pygments_lexer": "ipython2",
   "version": "2.7.12"
  }
 },
 "nbformat": 4,
 "nbformat_minor": 2
}
