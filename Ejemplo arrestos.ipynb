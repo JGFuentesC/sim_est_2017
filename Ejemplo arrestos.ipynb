{
 "cells": [
  {
   "cell_type": "code",
   "execution_count": 108,
   "metadata": {
    "collapsed": true
   },
   "outputs": [],
   "source": [
    "import pandas as pd\n",
    "import numpy as np\n",
    "from scipy import stats\n",
    "from fitter import Fitter\n",
    "import seaborn as sns\n",
    "import matplotlib.pyplot as plt\n",
    "from datetime import date,datetime,time\n",
    "from analytics_tools3 import freq_discrete\n",
    "%matplotlib inline"
   ]
  },
  {
   "cell_type": "code",
   "execution_count": 109,
   "metadata": {
    "collapsed": true
   },
   "outputs": [],
   "source": [
    "df = pd.read_csv('BPD_Arrests.csv.gz')"
   ]
  },
  {
   "cell_type": "code",
   "execution_count": 110,
   "metadata": {
    "collapsed": true
   },
   "outputs": [],
   "source": [
    "df.dropna(inplace=True)"
   ]
  },
  {
   "cell_type": "code",
   "execution_count": 111,
   "metadata": {},
   "outputs": [
    {
     "data": {
      "text/plain": [
       "(68151, 15)"
      ]
     },
     "execution_count": 111,
     "metadata": {},
     "output_type": "execute_result"
    }
   ],
   "source": [
    "df.shape"
   ]
  },
  {
   "cell_type": "code",
   "execution_count": 112,
   "metadata": {},
   "outputs": [],
   "source": [
    "df = df[['Age','Sex','Race','ArrestDate','ArrestTime','ChargeDescription']]"
   ]
  },
  {
   "cell_type": "code",
   "execution_count": 113,
   "metadata": {},
   "outputs": [],
   "source": [
    "df.ArrestDate = pd.to_datetime(df.ArrestDate).dt.date"
   ]
  },
  {
   "cell_type": "code",
   "execution_count": 114,
   "metadata": {},
   "outputs": [
    {
     "data": {
      "text/html": [
       "<div>\n",
       "<style>\n",
       "    .dataframe thead tr:only-child th {\n",
       "        text-align: right;\n",
       "    }\n",
       "\n",
       "    .dataframe thead th {\n",
       "        text-align: left;\n",
       "    }\n",
       "\n",
       "    .dataframe tbody tr th {\n",
       "        vertical-align: top;\n",
       "    }\n",
       "</style>\n",
       "<table border=\"1\" class=\"dataframe\">\n",
       "  <thead>\n",
       "    <tr style=\"text-align: right;\">\n",
       "      <th></th>\n",
       "      <th>Age</th>\n",
       "      <th>Sex</th>\n",
       "      <th>Race</th>\n",
       "      <th>ArrestDate</th>\n",
       "      <th>ArrestTime</th>\n",
       "      <th>ChargeDescription</th>\n",
       "    </tr>\n",
       "  </thead>\n",
       "  <tbody>\n",
       "    <tr>\n",
       "      <th>0</th>\n",
       "      <td>54.0</td>\n",
       "      <td>M</td>\n",
       "      <td>B</td>\n",
       "      <td>2016-11-12</td>\n",
       "      <td>22:35</td>\n",
       "      <td>COMMON ASSAULT</td>\n",
       "    </tr>\n",
       "    <tr>\n",
       "      <th>1</th>\n",
       "      <td>22.0</td>\n",
       "      <td>M</td>\n",
       "      <td>B</td>\n",
       "      <td>2016-11-12</td>\n",
       "      <td>21:49</td>\n",
       "      <td>POSSESSION</td>\n",
       "    </tr>\n",
       "    <tr>\n",
       "      <th>8</th>\n",
       "      <td>46.0</td>\n",
       "      <td>M</td>\n",
       "      <td>A</td>\n",
       "      <td>2016-11-12</td>\n",
       "      <td>15:37</td>\n",
       "      <td>TRESPASSING</td>\n",
       "    </tr>\n",
       "    <tr>\n",
       "      <th>9</th>\n",
       "      <td>20.0</td>\n",
       "      <td>M</td>\n",
       "      <td>U</td>\n",
       "      <td>2016-11-12</td>\n",
       "      <td>15:30</td>\n",
       "      <td>COMMON ASSAULT</td>\n",
       "    </tr>\n",
       "    <tr>\n",
       "      <th>12</th>\n",
       "      <td>22.0</td>\n",
       "      <td>M</td>\n",
       "      <td>B</td>\n",
       "      <td>2016-11-12</td>\n",
       "      <td>13:55</td>\n",
       "      <td>COMMON ASSAULT</td>\n",
       "    </tr>\n",
       "  </tbody>\n",
       "</table>\n",
       "</div>"
      ],
      "text/plain": [
       "     Age Sex Race  ArrestDate ArrestTime ChargeDescription\n",
       "0   54.0   M    B  2016-11-12      22:35    COMMON ASSAULT\n",
       "1   22.0   M    B  2016-11-12      21:49        POSSESSION\n",
       "8   46.0   M    A  2016-11-12      15:37       TRESPASSING\n",
       "9   20.0   M    U  2016-11-12      15:30    COMMON ASSAULT\n",
       "12  22.0   M    B  2016-11-12      13:55    COMMON ASSAULT"
      ]
     },
     "execution_count": 114,
     "metadata": {},
     "output_type": "execute_result"
    }
   ],
   "source": [
    "df.head()"
   ]
  },
  {
   "cell_type": "code",
   "execution_count": 115,
   "metadata": {},
   "outputs": [
    {
     "name": "stdout",
     "output_type": "stream",
     "text": [
      "Frequency distribution table for variable: Sex\n",
      "\n",
      "\n",
      "    Freq       Pct  Accum Freq  Accum Pct\n",
      "M  55768  0.818301       55768   0.818301\n",
      "F  12383  0.181699       68151   1.000000\n",
      "\n",
      "\n"
     ]
    }
   ],
   "source": [
    "freq_discrete(df,'Sex')"
   ]
  },
  {
   "cell_type": "code",
   "execution_count": 116,
   "metadata": {},
   "outputs": [
    {
     "name": "stdout",
     "output_type": "stream",
     "text": [
      "Frequency distribution table for variable: sex_sim\n",
      "\n",
      "\n",
      "    Freq       Pct  Accum Freq  Accum Pct\n",
      "M  55660  0.818529       55660   0.818529\n",
      "F  12340  0.181471       68000   1.000000\n",
      "\n",
      "\n"
     ]
    }
   ],
   "source": [
    "aux = pd.DataFrame({'sex_sim':np.random.choice(['M','F'],\n",
    "                              p=[0.818301,0.181699],\n",
    "                              size=68000)})\n",
    "\n",
    "freq_discrete(aux,'sex_sim')"
   ]
  },
  {
   "cell_type": "code",
   "execution_count": 117,
   "metadata": {},
   "outputs": [
    {
     "name": "stdout",
     "output_type": "stream",
     "text": [
      "Frequency distribution table for variable: Race\n",
      "\n",
      "\n",
      "    Freq       Pct  Accum Freq  Accum Pct\n",
      "B  56373  0.827178       56373   0.827178\n",
      "W  10286  0.150930       66659   0.978107\n",
      "U   1156  0.016962       67815   0.995070\n",
      "A    181  0.002656       67996   0.997726\n",
      "I    155  0.002274       68151   1.000000\n",
      "\n",
      "\n"
     ]
    }
   ],
   "source": [
    "freq_discrete(df,'Race',True)"
   ]
  },
  {
   "cell_type": "code",
   "execution_count": 118,
   "metadata": {
    "collapsed": true
   },
   "outputs": [],
   "source": [
    "def agrupar_raza(raza):\n",
    "    if raza in ['B','W']:\n",
    "        return raza\n",
    "    else:\n",
    "        return 'O'"
   ]
  },
  {
   "cell_type": "code",
   "execution_count": 119,
   "metadata": {
    "collapsed": true
   },
   "outputs": [],
   "source": [
    "df['Race'] = df['Race'].map(agrupar_raza)"
   ]
  },
  {
   "cell_type": "code",
   "execution_count": 120,
   "metadata": {
    "collapsed": true
   },
   "outputs": [],
   "source": [
    "df['Race'] = df['Race'].map(lambda x:x if x in ['B','W'] else 'O')"
   ]
  },
  {
   "cell_type": "code",
   "execution_count": 121,
   "metadata": {},
   "outputs": [
    {
     "name": "stdout",
     "output_type": "stream",
     "text": [
      "Frequency distribution table for variable: Race\n",
      "\n",
      "\n",
      "    Freq       Pct  Accum Freq  Accum Pct\n",
      "B  56373  0.827178       56373   0.827178\n",
      "W  10286  0.150930       66659   0.978107\n",
      "O   1492  0.021893       68151   1.000000\n",
      "\n",
      "\n"
     ]
    }
   ],
   "source": [
    "freq_discrete(df,'Race',True)"
   ]
  },
  {
   "cell_type": "code",
   "execution_count": 122,
   "metadata": {},
   "outputs": [
    {
     "data": {
      "text/html": [
       "<div>\n",
       "<style>\n",
       "    .dataframe thead tr:only-child th {\n",
       "        text-align: right;\n",
       "    }\n",
       "\n",
       "    .dataframe thead th {\n",
       "        text-align: left;\n",
       "    }\n",
       "\n",
       "    .dataframe tbody tr th {\n",
       "        vertical-align: top;\n",
       "    }\n",
       "</style>\n",
       "<table border=\"1\" class=\"dataframe\">\n",
       "  <thead>\n",
       "    <tr style=\"text-align: right;\">\n",
       "      <th></th>\n",
       "      <th>Age</th>\n",
       "      <th>Sex</th>\n",
       "      <th>Race</th>\n",
       "      <th>ArrestDate</th>\n",
       "      <th>ArrestTime</th>\n",
       "      <th>ChargeDescription</th>\n",
       "    </tr>\n",
       "  </thead>\n",
       "  <tbody>\n",
       "    <tr>\n",
       "      <th>0</th>\n",
       "      <td>54.0</td>\n",
       "      <td>M</td>\n",
       "      <td>B</td>\n",
       "      <td>2016-11-12</td>\n",
       "      <td>22:35</td>\n",
       "      <td>COMMON ASSAULT</td>\n",
       "    </tr>\n",
       "    <tr>\n",
       "      <th>1</th>\n",
       "      <td>22.0</td>\n",
       "      <td>M</td>\n",
       "      <td>B</td>\n",
       "      <td>2016-11-12</td>\n",
       "      <td>21:49</td>\n",
       "      <td>POSSESSION</td>\n",
       "    </tr>\n",
       "    <tr>\n",
       "      <th>8</th>\n",
       "      <td>46.0</td>\n",
       "      <td>M</td>\n",
       "      <td>O</td>\n",
       "      <td>2016-11-12</td>\n",
       "      <td>15:37</td>\n",
       "      <td>TRESPASSING</td>\n",
       "    </tr>\n",
       "    <tr>\n",
       "      <th>9</th>\n",
       "      <td>20.0</td>\n",
       "      <td>M</td>\n",
       "      <td>O</td>\n",
       "      <td>2016-11-12</td>\n",
       "      <td>15:30</td>\n",
       "      <td>COMMON ASSAULT</td>\n",
       "    </tr>\n",
       "    <tr>\n",
       "      <th>12</th>\n",
       "      <td>22.0</td>\n",
       "      <td>M</td>\n",
       "      <td>B</td>\n",
       "      <td>2016-11-12</td>\n",
       "      <td>13:55</td>\n",
       "      <td>COMMON ASSAULT</td>\n",
       "    </tr>\n",
       "  </tbody>\n",
       "</table>\n",
       "</div>"
      ],
      "text/plain": [
       "     Age Sex Race  ArrestDate ArrestTime ChargeDescription\n",
       "0   54.0   M    B  2016-11-12      22:35    COMMON ASSAULT\n",
       "1   22.0   M    B  2016-11-12      21:49        POSSESSION\n",
       "8   46.0   M    O  2016-11-12      15:37       TRESPASSING\n",
       "9   20.0   M    O  2016-11-12      15:30    COMMON ASSAULT\n",
       "12  22.0   M    B  2016-11-12      13:55    COMMON ASSAULT"
      ]
     },
     "execution_count": 122,
     "metadata": {},
     "output_type": "execute_result"
    }
   ],
   "source": [
    "df.head()"
   ]
  },
  {
   "cell_type": "code",
   "execution_count": 123,
   "metadata": {},
   "outputs": [],
   "source": [
    "def conv_time(x):\n",
    "    try:\n",
    "        x = x.replace('.',':')\n",
    "        l = [int(y) for y in x.split(':')]\n",
    "        return time(l[0],l[1])\n",
    "    except:\n",
    "        print x"
   ]
  },
  {
   "cell_type": "code",
   "execution_count": 124,
   "metadata": {
    "collapsed": true
   },
   "outputs": [],
   "source": [
    "def horario(x):\n",
    "    if time(0,0)<=x<=time(6,0):\n",
    "        return '01. mad'\n",
    "    elif time(6,0)<x<=time(12,0):\n",
    "        return '02. mañ'\n",
    "    elif time(12,0)<x<=time(18,0):\n",
    "        return '03. tar'\n",
    "    elif time(18,0)<x<=time(23,59):\n",
    "        return '04. noc'\n",
    "    "
   ]
  },
  {
   "cell_type": "code",
   "execution_count": 125,
   "metadata": {},
   "outputs": [],
   "source": [
    "df['horario'] = df['ArrestTime'].map(conv_time).map(horario)"
   ]
  },
  {
   "cell_type": "code",
   "execution_count": 127,
   "metadata": {},
   "outputs": [
    {
     "name": "stdout",
     "output_type": "stream",
     "text": [
      "Frequency distribution table for variable: horario\n",
      "\n",
      "\n",
      "          Freq       Pct  Accum Freq  Accum Pct\n",
      "01. mad   9894  0.145178        9894   0.145178\n",
      "02. mañ  13525  0.198456       23419   0.343634\n",
      "03. tar  22222  0.326070       45641   0.669704\n",
      "04. noc  22510  0.330296       68151   1.000000\n",
      "\n",
      "\n"
     ]
    }
   ],
   "source": [
    "freq_discrete(df,'horario',False)"
   ]
  },
  {
   "cell_type": "code",
   "execution_count": 129,
   "metadata": {},
   "outputs": [
    {
     "data": {
      "text/plain": [
       "<matplotlib.axes._subplots.AxesSubplot at 0x7f4c048e9850>"
      ]
     },
     "execution_count": 129,
     "metadata": {},
     "output_type": "execute_result"
    },
    {
     "data": {
      "image/png": "[encoded data removed]",
      "text/plain": [
       "<matplotlib.figure.Figure at 0x7f4bc0cd7c10>"
      ]
     },
     "metadata": {},
     "output_type": "display_data"
    }
   ],
   "source": [
    "df.Age.hist()"
   ]
  },
  {
   "cell_type": "code",
   "execution_count": 130,
   "metadata": {},
   "outputs": [
    {
     "data": {
      "text/plain": [
       "<matplotlib.axes._subplots.AxesSubplot at 0x7f4bbf142490>"
      ]
     },
     "execution_count": 130,
     "metadata": {},
     "output_type": "execute_result"
    },
    {
     "data": {
      "image/png": "[encoded data removed]",
      "text/plain": [
       "<matplotlib.figure.Figure at 0x7f4bc6915bd0>"
      ]
     },
     "metadata": {},
     "output_type": "display_data"
    }
   ],
   "source": [
    "sns.boxplot(df.Age)"
   ]
  },
  {
   "cell_type": "code",
   "execution_count": 140,
   "metadata": {},
   "outputs": [
    {
     "data": {
      "text/plain": [
       "[23.0, 42.0, 32.89697876773635]"
      ]
     },
     "execution_count": 140,
     "metadata": {},
     "output_type": "execute_result"
    }
   ],
   "source": []
  },
  {
   "cell_type": "code",
   "execution_count": null,
   "metadata": {
    "collapsed": true
   },
   "outputs": [],
   "source": [
    "<=x<=(l[2]-3*riq)"
   ]
  },
  {
   "cell_type": "code",
   "execution_count": 147,
   "metadata": {
    "collapsed": true
   },
   "outputs": [],
   "source": [
    "l = pd.DataFrame(df.Age.describe()).T[['25%','75%','mean']].T['Age'].tolist()\n",
    "riq = l[1]-l[0]\n",
    "lb=l[2]-1.5*riq\n",
    "ub =l[2]+1.5*riq\n",
    "df['ol_riq']= ((df.Age<lb)|(df.Age>ub)).astype(int)"
   ]
  },
  {
   "cell_type": "code",
   "execution_count": 148,
   "metadata": {},
   "outputs": [
    {
     "data": {
      "text/html": [
       "<div>\n",
       "<style>\n",
       "    .dataframe thead tr:only-child th {\n",
       "        text-align: right;\n",
       "    }\n",
       "\n",
       "    .dataframe thead th {\n",
       "        text-align: left;\n",
       "    }\n",
       "\n",
       "    .dataframe tbody tr th {\n",
       "        vertical-align: top;\n",
       "    }\n",
       "</style>\n",
       "<table border=\"1\" class=\"dataframe\">\n",
       "  <thead>\n",
       "    <tr style=\"text-align: right;\">\n",
       "      <th></th>\n",
       "      <th>Age</th>\n",
       "      <th>Sex</th>\n",
       "      <th>Race</th>\n",
       "      <th>ArrestDate</th>\n",
       "      <th>ArrestTime</th>\n",
       "      <th>ChargeDescription</th>\n",
       "      <th>horario</th>\n",
       "      <th>ol_riq</th>\n",
       "    </tr>\n",
       "  </thead>\n",
       "  <tbody>\n",
       "    <tr>\n",
       "      <th>0</th>\n",
       "      <td>54.0</td>\n",
       "      <td>M</td>\n",
       "      <td>B</td>\n",
       "      <td>2016-11-12</td>\n",
       "      <td>22:35</td>\n",
       "      <td>COMMON ASSAULT</td>\n",
       "      <td>04. noc</td>\n",
       "      <td>0</td>\n",
       "    </tr>\n",
       "    <tr>\n",
       "      <th>1</th>\n",
       "      <td>22.0</td>\n",
       "      <td>M</td>\n",
       "      <td>B</td>\n",
       "      <td>2016-11-12</td>\n",
       "      <td>21:49</td>\n",
       "      <td>POSSESSION</td>\n",
       "      <td>04. noc</td>\n",
       "      <td>0</td>\n",
       "    </tr>\n",
       "    <tr>\n",
       "      <th>8</th>\n",
       "      <td>46.0</td>\n",
       "      <td>M</td>\n",
       "      <td>O</td>\n",
       "      <td>2016-11-12</td>\n",
       "      <td>15:37</td>\n",
       "      <td>TRESPASSING</td>\n",
       "      <td>03. tar</td>\n",
       "      <td>0</td>\n",
       "    </tr>\n",
       "    <tr>\n",
       "      <th>9</th>\n",
       "      <td>20.0</td>\n",
       "      <td>M</td>\n",
       "      <td>O</td>\n",
       "      <td>2016-11-12</td>\n",
       "      <td>15:30</td>\n",
       "      <td>COMMON ASSAULT</td>\n",
       "      <td>03. tar</td>\n",
       "      <td>0</td>\n",
       "    </tr>\n",
       "    <tr>\n",
       "      <th>12</th>\n",
       "      <td>22.0</td>\n",
       "      <td>M</td>\n",
       "      <td>B</td>\n",
       "      <td>2016-11-12</td>\n",
       "      <td>13:55</td>\n",
       "      <td>COMMON ASSAULT</td>\n",
       "      <td>03. tar</td>\n",
       "      <td>0</td>\n",
       "    </tr>\n",
       "  </tbody>\n",
       "</table>\n",
       "</div>"
      ],
      "text/plain": [
       "     Age Sex Race  ArrestDate ArrestTime ChargeDescription  horario  ol_riq\n",
       "0   54.0   M    B  2016-11-12      22:35    COMMON ASSAULT  04. noc       0\n",
       "1   22.0   M    B  2016-11-12      21:49        POSSESSION  04. noc       0\n",
       "8   46.0   M    O  2016-11-12      15:37       TRESPASSING  03. tar       0\n",
       "9   20.0   M    O  2016-11-12      15:30    COMMON ASSAULT  03. tar       0\n",
       "12  22.0   M    B  2016-11-12      13:55    COMMON ASSAULT  03. tar       0"
      ]
     },
     "execution_count": 148,
     "metadata": {},
     "output_type": "execute_result"
    }
   ],
   "source": [
    "df.head()"
   ]
  },
  {
   "cell_type": "code",
   "execution_count": 149,
   "metadata": {},
   "outputs": [
    {
     "name": "stdout",
     "output_type": "stream",
     "text": [
      "Frequency distribution table for variable: ol_riq\n",
      "\n",
      "\n",
      "    Freq       Pct  Accum Freq  Accum Pct\n",
      "0  67332  0.987983       67332   0.987983\n",
      "1    819  0.012017       68151   1.000000\n",
      "\n",
      "\n"
     ]
    }
   ],
   "source": [
    "freq_discrete(df,'ol_riq')"
   ]
  },
  {
   "cell_type": "code",
   "execution_count": 159,
   "metadata": {},
   "outputs": [],
   "source": [
    "lb,ub=list(pd.DataFrame(df.Age.describe(percentiles=[.01,.99])).T[['1%','99%']].T['Age'])"
   ]
  },
  {
   "cell_type": "code",
   "execution_count": 161,
   "metadata": {},
   "outputs": [],
   "source": [
    "df['ol_pct']= ((df.Age<lb)|(df.Age>ub)).astype(int)"
   ]
  },
  {
   "cell_type": "code",
   "execution_count": 163,
   "metadata": {},
   "outputs": [
    {
     "name": "stdout",
     "output_type": "stream",
     "text": [
      "Frequency distribution table for variable: ol_pct\n",
      "\n",
      "\n",
      "    Freq       Pct  Accum Freq  Accum Pct\n",
      "0  67180  0.985752       67180   0.985752\n",
      "1    971  0.014248       68151   1.000000\n",
      "\n",
      "\n"
     ]
    }
   ],
   "source": [
    "freq_discrete(df,'ol_pct')"
   ]
  },
  {
   "cell_type": "code",
   "execution_count": 164,
   "metadata": {
    "collapsed": true
   },
   "outputs": [],
   "source": [
    "df['olol'] = df.ol_riq.astype(str)+df.ol_pct.astype(str)"
   ]
  },
  {
   "cell_type": "code",
   "execution_count": 168,
   "metadata": {},
   "outputs": [
    {
     "name": "stdout",
     "output_type": "stream",
     "text": [
      "Frequency distribution table for variable: olol\n",
      "\n",
      "\n",
      "     Freq       Pct  Accum Freq  Accum Pct\n",
      "00  67010  0.992711       67010   0.992711\n",
      "01    322  0.004770       67332   0.997482\n",
      "10    170  0.002518       67502   1.000000\n",
      "\n",
      "\n"
     ]
    }
   ],
   "source": [
    "freq_discrete(df,'olol',True)"
   ]
  },
  {
   "cell_type": "code",
   "execution_count": 167,
   "metadata": {
    "collapsed": true
   },
   "outputs": [],
   "source": [
    "df = df[df.olol!='11']"
   ]
  },
  {
   "cell_type": "code",
   "execution_count": 169,
   "metadata": {},
   "outputs": [
    {
     "data": {
      "text/plain": [
       "<matplotlib.axes._subplots.AxesSubplot at 0x7f4bc0b5ec90>"
      ]
     },
     "execution_count": 169,
     "metadata": {},
     "output_type": "execute_result"
    },
    {
     "data": {
      "image/png": "[encoded data removed]",
      "text/plain": [
       "<matplotlib.figure.Figure at 0x7f4bc0f53210>"
      ]
     },
     "metadata": {},
     "output_type": "display_data"
    }
   ],
   "source": [
    "df.Age.hist()"
   ]
  },
  {
   "cell_type": "code",
   "execution_count": 182,
   "metadata": {},
   "outputs": [
    {
     "data": {
      "text/plain": [
       "<matplotlib.axes._subplots.AxesSubplot at 0x7f4bbc490c10>"
      ]
     },
     "execution_count": 182,
     "metadata": {},
     "output_type": "execute_result"
    },
    {
     "data": {
      "image/png": "[encoded data removed]",
      "text/plain": [
       "<matplotlib.figure.Figure at 0x7f4bbc41ad10>"
      ]
     },
     "metadata": {},
     "output_type": "display_data"
    }
   ],
   "source": [
    "sns.distplot(np.sqrt(df.sample(frac=0.01).Age))"
   ]
  },
  {
   "cell_type": "code",
   "execution_count": 184,
   "metadata": {
    "collapsed": true
   },
   "outputs": [],
   "source": [
    "fi = Fitter(data=np.sqrt(df.sample(frac=0.01).Age),verbose=True)"
   ]
  },
  {
   "cell_type": "code",
   "execution_count": 185,
   "metadata": {},
   "outputs": [
    {
     "name": "stdout",
     "output_type": "stream",
     "text": [
      "Fitted alpha distribution with error=13.9700692398)\n",
      "Fitted anglit distribution with error=14.4591566922)\n",
      "Fitted arcsine distribution with error=19.3916187342)\n",
      "Fitted argus distribution with error=15.2834747605)\n",
      "Fitted beta distribution with error=14.2230006359)\n",
      "Fitted betaprime distribution with error=14.1180687227)\n",
      "Fitted bradford distribution with error=14.3332642372)\n",
      "Fitted burr distribution with error=13.8985512097)\n",
      "Fitted burr12 distribution with error=13.8355325178)\n",
      "Fitted cauchy distribution with error=14.8702244122)\n",
      "Fitted chi distribution with error=13.6849472421)\n",
      "Fitted chi2 distribution with error=22.0224323883)\n",
      "Fitted cosine distribution with error=14.4717557809)\n",
      "Fitted dgamma distribution with error=14.7778625082)\n",
      "Fitted dweibull distribution with error=14.4826746378)\n",
      "Fitted erlang distribution with error=13.6079855896)\n"
     ]
    },
    {
     "name": "stderr",
     "output_type": "stream",
     "text": [
      "/usr/local/lib/python2.7/dist-packages/scipy/stats/_continuous_distns.py:2131: RuntimeWarning: The shape parameter of the erlang distribution has been given a non-integer value 17.850000000000001.\n",
      "  RuntimeWarning)\n",
      "/usr/local/lib/python2.7/dist-packages/scipy/stats/_continuous_distns.py:2131: RuntimeWarning: The shape parameter of the erlang distribution has been given a non-integer value 16.149999999999999.\n",
      "  RuntimeWarning)\n",
      "/usr/local/lib/python2.7/dist-packages/scipy/stats/_continuous_distns.py:2131: RuntimeWarning: The shape parameter of the erlang distribution has been given a non-integer value 16.43333333333333.\n",
      "  RuntimeWarning)\n",
      "/usr/local/lib/python2.7/dist-packages/scipy/stats/_continuous_distns.py:2131: RuntimeWarning: The shape parameter of the erlang distribution has been given a non-integer value 16.574999999999996.\n",
      "  RuntimeWarning)\n",
      "/usr/local/lib/python2.7/dist-packages/scipy/stats/_continuous_distns.py:2131: RuntimeWarning: The shape parameter of the erlang distribution has been given a non-integer value 16.787500000000001.\n",
      "  RuntimeWarning)\n",
      "/usr/local/lib/python2.7/dist-packages/scipy/stats/_continuous_distns.py:2131: RuntimeWarning: The shape parameter of the erlang distribution has been given a non-integer value 16.716666666666669.\n",
      "  RuntimeWarning)\n",
      "/usr/local/lib/python2.7/dist-packages/scipy/stats/_continuous_distns.py:2131: RuntimeWarning: The shape parameter of the erlang distribution has been given a non-integer value 16.610416666666666.\n",
      "  RuntimeWarning)\n",
      "/usr/local/lib/python2.7/dist-packages/scipy/stats/_continuous_distns.py:2131: RuntimeWarning: The shape parameter of the erlang distribution has been given a non-integer value 17.448611111111113.\n",
      "  RuntimeWarning)\n",
      "/usr/local/lib/python2.7/dist-packages/scipy/stats/_continuous_distns.py:2131: RuntimeWarning: The shape parameter of the erlang distribution has been given a non-integer value 18.09791666666667.\n",
      "  RuntimeWarning)\n",
      "/usr/local/lib/python2.7/dist-packages/scipy/stats/_continuous_distns.py:2131: RuntimeWarning: The shape parameter of the erlang distribution has been given a non-integer value 17.546990740740746.\n",
      "  RuntimeWarning)\n",
      "/usr/local/lib/python2.7/dist-packages/scipy/stats/_continuous_distns.py:2131: RuntimeWarning: The shape parameter of the erlang distribution has been given a non-integer value 16.844560185185188.\n",
      "  RuntimeWarning)\n",
      "/usr/local/lib/python2.7/dist-packages/scipy/stats/_continuous_distns.py:2131: RuntimeWarning: The shape parameter of the erlang distribution has been given a non-integer value 17.053780864197535.\n",
      "  RuntimeWarning)\n",
      "/usr/local/lib/python2.7/dist-packages/scipy/stats/_continuous_distns.py:2131: RuntimeWarning: The shape parameter of the erlang distribution has been given a non-integer value 17.080671296296302.\n",
      "  RuntimeWarning)\n",
      "/usr/local/lib/python2.7/dist-packages/scipy/stats/_continuous_distns.py:2131: RuntimeWarning: The shape parameter of the erlang distribution has been given a non-integer value 17.443801440329224.\n",
      "  RuntimeWarning)\n",
      "/usr/local/lib/python2.7/dist-packages/scipy/stats/_continuous_distns.py:2131: RuntimeWarning: The shape parameter of the erlang distribution has been given a non-integer value 16.951575360082309.\n",
      "  RuntimeWarning)\n",
      "/usr/local/lib/python2.7/dist-packages/scipy/stats/_continuous_distns.py:2131: RuntimeWarning: The shape parameter of the erlang distribution has been given a non-integer value 16.451333161865577.\n",
      "  RuntimeWarning)\n",
      "/usr/local/lib/python2.7/dist-packages/scipy/stats/_continuous_distns.py:2131: RuntimeWarning: The shape parameter of the erlang distribution has been given a non-integer value 15.952694187242813.\n",
      "  RuntimeWarning)\n",
      "/usr/local/lib/python2.7/dist-packages/scipy/stats/_continuous_distns.py:2131: RuntimeWarning: The shape parameter of the erlang distribution has been given a non-integer value 16.460806755829914.\n",
      "  RuntimeWarning)\n",
      "/usr/local/lib/python2.7/dist-packages/scipy/stats/_continuous_distns.py:2131: RuntimeWarning: The shape parameter of the erlang distribution has been given a non-integer value 16.026612511431196.\n",
      "  RuntimeWarning)\n",
      "/usr/local/lib/python2.7/dist-packages/scipy/stats/_continuous_distns.py:2131: RuntimeWarning: The shape parameter of the erlang distribution has been given a non-integer value 15.564131087105636.\n",
      "  RuntimeWarning)\n",
      "/usr/local/lib/python2.7/dist-packages/scipy/stats/_continuous_distns.py:2131: RuntimeWarning: The shape parameter of the erlang distribution has been given a non-integer value 14.931307155921374.\n",
      "  RuntimeWarning)\n",
      "/usr/local/lib/python2.7/dist-packages/scipy/stats/_continuous_distns.py:2131: RuntimeWarning: The shape parameter of the erlang distribution has been given a non-integer value 13.870070301783294.\n",
      "  RuntimeWarning)\n",
      "/usr/local/lib/python2.7/dist-packages/scipy/stats/_continuous_distns.py:2131: RuntimeWarning: The shape parameter of the erlang distribution has been given a non-integer value 14.504614864349968.\n",
      "  RuntimeWarning)\n",
      "/usr/local/lib/python2.7/dist-packages/scipy/stats/_continuous_distns.py:2131: RuntimeWarning: The shape parameter of the erlang distribution has been given a non-integer value 14.047341217675172.\n",
      "  RuntimeWarning)\n",
      "/usr/local/lib/python2.7/dist-packages/scipy/stats/_continuous_distns.py:2131: RuntimeWarning: The shape parameter of the erlang distribution has been given a non-integer value 13.094664732891353.\n",
      "  RuntimeWarning)\n",
      "/usr/local/lib/python2.7/dist-packages/scipy/stats/_continuous_distns.py:2131: RuntimeWarning: The shape parameter of the erlang distribution has been given a non-integer value 15.190571442784819.\n",
      "  RuntimeWarning)\n",
      "/usr/local/lib/python2.7/dist-packages/scipy/stats/_continuous_distns.py:2131: RuntimeWarning: The shape parameter of the erlang distribution has been given a non-integer value 13.882015457148608.\n",
      "  RuntimeWarning)\n",
      "/usr/local/lib/python2.7/dist-packages/scipy/stats/_continuous_distns.py:2131: RuntimeWarning: The shape parameter of the erlang distribution has been given a non-integer value 13.040957642170092.\n",
      "  RuntimeWarning)\n",
      "/usr/local/lib/python2.7/dist-packages/scipy/stats/_continuous_distns.py:2131: RuntimeWarning: The shape parameter of the erlang distribution has been given a non-integer value 13.383204444378617.\n",
      "  RuntimeWarning)\n",
      "/usr/local/lib/python2.7/dist-packages/scipy/stats/_continuous_distns.py:2131: RuntimeWarning: The shape parameter of the erlang distribution has been given a non-integer value 14.738729693183268.\n",
      "  RuntimeWarning)\n",
      "/usr/local/lib/python2.7/dist-packages/scipy/stats/_continuous_distns.py:2131: RuntimeWarning: The shape parameter of the erlang distribution has been given a non-integer value 13.514083756083323.\n",
      "  RuntimeWarning)\n",
      "/usr/local/lib/python2.7/dist-packages/scipy/stats/_continuous_distns.py:2131: RuntimeWarning: The shape parameter of the erlang distribution has been given a non-integer value 12.805472056164298.\n",
      "  RuntimeWarning)\n",
      "/usr/local/lib/python2.7/dist-packages/scipy/stats/_continuous_distns.py:2131: RuntimeWarning: The shape parameter of the erlang distribution has been given a non-integer value 12.417822794142117.\n",
      "  RuntimeWarning)\n",
      "/usr/local/lib/python2.7/dist-packages/scipy/stats/_continuous_distns.py:2131: RuntimeWarning: The shape parameter of the erlang distribution has been given a non-integer value 14.15850296842298.\n",
      "  RuntimeWarning)\n",
      "/usr/local/lib/python2.7/dist-packages/scipy/stats/_continuous_distns.py:2131: RuntimeWarning: The shape parameter of the erlang distribution has been given a non-integer value 13.183319103482084.\n",
      "  RuntimeWarning)\n",
      "/usr/local/lib/python2.7/dist-packages/scipy/stats/_continuous_distns.py:2131: RuntimeWarning: The shape parameter of the erlang distribution has been given a non-integer value 12.751308046385539.\n",
      "  RuntimeWarning)\n",
      "/usr/local/lib/python2.7/dist-packages/scipy/stats/_continuous_distns.py:2131: RuntimeWarning: The shape parameter of the erlang distribution has been given a non-integer value 12.594839923499936.\n",
      "  RuntimeWarning)\n",
      "/usr/local/lib/python2.7/dist-packages/scipy/stats/_continuous_distns.py:2131: RuntimeWarning: The shape parameter of the erlang distribution has been given a non-integer value 11.951252156675601.\n",
      "  RuntimeWarning)\n",
      "/usr/local/lib/python2.7/dist-packages/scipy/stats/_continuous_distns.py:2131: RuntimeWarning: The shape parameter of the erlang distribution has been given a non-integer value 10.846851871060647.\n",
      "  RuntimeWarning)\n",
      "/usr/local/lib/python2.7/dist-packages/scipy/stats/_continuous_distns.py:2131: RuntimeWarning: The shape parameter of the erlang distribution has been given a non-integer value 10.894135993250227.\n",
      "  RuntimeWarning)\n",
      "/usr/local/lib/python2.7/dist-packages/scipy/stats/_continuous_distns.py:2131: RuntimeWarning: The shape parameter of the erlang distribution has been given a non-integer value 9.9384679617931937.\n",
      "  RuntimeWarning)\n",
      "/usr/local/lib/python2.7/dist-packages/scipy/stats/_continuous_distns.py:2131: RuntimeWarning: The shape parameter of the erlang distribution has been given a non-integer value 12.884278926480267.\n",
      "  RuntimeWarning)\n",
      "/usr/local/lib/python2.7/dist-packages/scipy/stats/_continuous_distns.py:2131: RuntimeWarning: The shape parameter of the erlang distribution has been given a non-integer value 12.374922162625362.\n",
      "  RuntimeWarning)\n",
      "/usr/local/lib/python2.7/dist-packages/scipy/stats/_continuous_distns.py:2131: RuntimeWarning: The shape parameter of the erlang distribution has been given a non-integer value 10.728898828648589.\n",
      "  RuntimeWarning)\n",
      "/usr/local/lib/python2.7/dist-packages/scipy/stats/_continuous_distns.py:2131: RuntimeWarning: The shape parameter of the erlang distribution has been given a non-integer value 12.245705741951301.\n",
      "  RuntimeWarning)\n",
      "/usr/local/lib/python2.7/dist-packages/scipy/stats/_continuous_distns.py:2131: RuntimeWarning: The shape parameter of the erlang distribution has been given a non-integer value 11.019140431959391.\n",
      "  RuntimeWarning)\n",
      "/usr/local/lib/python2.7/dist-packages/scipy/stats/_continuous_distns.py:2131: RuntimeWarning: The shape parameter of the erlang distribution has been given a non-integer value 12.035976729958868.\n",
      "  RuntimeWarning)\n",
      "/usr/local/lib/python2.7/dist-packages/scipy/stats/_continuous_distns.py:2131: RuntimeWarning: The shape parameter of the erlang distribution has been given a non-integer value 11.499293486764664.\n",
      "  RuntimeWarning)\n",
      "/usr/local/lib/python2.7/dist-packages/scipy/stats/_continuous_distns.py:2131: RuntimeWarning: The shape parameter of the erlang distribution has been given a non-integer value 11.273314151809195.\n",
      "  RuntimeWarning)\n",
      "/usr/local/lib/python2.7/dist-packages/scipy/stats/_continuous_distns.py:2131: RuntimeWarning: The shape parameter of the erlang distribution has been given a non-integer value 10.556578841394227.\n",
      "  RuntimeWarning)\n",
      "/usr/local/lib/python2.7/dist-packages/scipy/stats/_continuous_distns.py:2131: RuntimeWarning: The shape parameter of the erlang distribution has been given a non-integer value 9.7800425943435627.\n",
      "  RuntimeWarning)\n",
      "/usr/local/lib/python2.7/dist-packages/scipy/stats/_continuous_distns.py:2131: RuntimeWarning: The shape parameter of the erlang distribution has been given a non-integer value 11.471993196055042.\n",
      "  RuntimeWarning)\n",
      "/usr/local/lib/python2.7/dist-packages/scipy/stats/_continuous_distns.py:2131: RuntimeWarning: The shape parameter of the erlang distribution has been given a non-integer value 11.307121466255417.\n",
      "  RuntimeWarning)\n",
      "/usr/local/lib/python2.7/dist-packages/scipy/stats/_continuous_distns.py:2131: RuntimeWarning: The shape parameter of the erlang distribution has been given a non-integer value 11.513614202758014.\n",
      "  RuntimeWarning)\n",
      "/usr/local/lib/python2.7/dist-packages/scipy/stats/_continuous_distns.py:2131: RuntimeWarning: The shape parameter of the erlang distribution has been given a non-integer value 10.619349776917517.\n",
      "  RuntimeWarning)\n",
      "/usr/local/lib/python2.7/dist-packages/scipy/stats/_continuous_distns.py:2131: RuntimeWarning: The shape parameter of the erlang distribution has been given a non-integer value 10.193028067348756.\n",
      "  RuntimeWarning)\n",
      "/usr/local/lib/python2.7/dist-packages/scipy/stats/_continuous_distns.py:2131: RuntimeWarning: The shape parameter of the erlang distribution has been given a non-integer value 11.29239694888135.\n",
      "  RuntimeWarning)\n",
      "/usr/local/lib/python2.7/dist-packages/scipy/stats/_continuous_distns.py:2131: RuntimeWarning: The shape parameter of the erlang distribution has been given a non-integer value 10.588383503181152.\n",
      "  RuntimeWarning)\n",
      "/usr/local/lib/python2.7/dist-packages/scipy/stats/_continuous_distns.py:2131: RuntimeWarning: The shape parameter of the erlang distribution has been given a non-integer value 10.245918178867129.\n",
      "  RuntimeWarning)\n",
      "/usr/local/lib/python2.7/dist-packages/scipy/stats/_continuous_distns.py:2131: RuntimeWarning: The shape parameter of the erlang distribution has been given a non-integer value 9.8471073304760743.\n",
      "  RuntimeWarning)\n",
      "/usr/local/lib/python2.7/dist-packages/scipy/stats/_continuous_distns.py:2131: RuntimeWarning: The shape parameter of the erlang distribution has been given a non-integer value 8.8983054355799567.\n",
      "  RuntimeWarning)\n",
      "/usr/local/lib/python2.7/dist-packages/scipy/stats/_continuous_distns.py:2131: RuntimeWarning: The shape parameter of the erlang distribution has been given a non-integer value 10.693874070556003.\n",
      "  RuntimeWarning)\n",
      "/usr/local/lib/python2.7/dist-packages/scipy/stats/_continuous_distns.py:2131: RuntimeWarning: The shape parameter of the erlang distribution has been given a non-integer value 10.908106214038519.\n",
      "  RuntimeWarning)\n",
      "/usr/local/lib/python2.7/dist-packages/scipy/stats/_continuous_distns.py:2131: RuntimeWarning: The shape parameter of the erlang distribution has been given a non-integer value 10.642856493147908.\n",
      "  RuntimeWarning)\n",
      "/usr/local/lib/python2.7/dist-packages/scipy/stats/_continuous_distns.py:2131: RuntimeWarning: The shape parameter of the erlang distribution has been given a non-integer value 10.862071094365273.\n",
      "  RuntimeWarning)\n",
      "/usr/local/lib/python2.7/dist-packages/scipy/stats/_continuous_distns.py:2131: RuntimeWarning: The shape parameter of the erlang distribution has been given a non-integer value 10.473356440364203.\n",
      "  RuntimeWarning)\n",
      "/usr/local/lib/python2.7/dist-packages/scipy/stats/_continuous_distns.py:2131: RuntimeWarning: The shape parameter of the erlang distribution has been given a non-integer value 10.363097625268303.\n",
      "  RuntimeWarning)\n",
      "/usr/local/lib/python2.7/dist-packages/scipy/stats/_continuous_distns.py:2131: RuntimeWarning: The shape parameter of the erlang distribution has been given a non-integer value 10.337868105852563.\n",
      "  RuntimeWarning)\n",
      "/usr/local/lib/python2.7/dist-packages/scipy/stats/_continuous_distns.py:2131: RuntimeWarning: The shape parameter of the erlang distribution has been given a non-integer value 9.7691848456267252.\n",
      "  RuntimeWarning)\n",
      "/usr/local/lib/python2.7/dist-packages/scipy/stats/_continuous_distns.py:2131: RuntimeWarning: The shape parameter of the erlang distribution has been given a non-integer value 9.2227417212574494.\n",
      "  RuntimeWarning)\n",
      "/usr/local/lib/python2.7/dist-packages/scipy/stats/_continuous_distns.py:2131: RuntimeWarning: The shape parameter of the erlang distribution has been given a non-integer value 10.067515538964599.\n",
      "  RuntimeWarning)\n",
      "/usr/local/lib/python2.7/dist-packages/scipy/stats/_continuous_distns.py:2131: RuntimeWarning: The shape parameter of the erlang distribution has been given a non-integer value 9.9783142190133347.\n",
      "  RuntimeWarning)\n",
      "/usr/local/lib/python2.7/dist-packages/scipy/stats/_continuous_distns.py:2131: RuntimeWarning: The shape parameter of the erlang distribution has been given a non-integer value 9.7358630207530137.\n",
      "  RuntimeWarning)\n",
      "/usr/local/lib/python2.7/dist-packages/scipy/stats/_continuous_distns.py:2131: RuntimeWarning: The shape parameter of the erlang distribution has been given a non-integer value 9.4348604782032375.\n",
      "  RuntimeWarning)\n",
      "/usr/local/lib/python2.7/dist-packages/scipy/stats/_continuous_distns.py:2131: RuntimeWarning: The shape parameter of the erlang distribution has been given a non-integer value 9.0918087366272289.\n",
      "  RuntimeWarning)\n",
      "/usr/local/lib/python2.7/dist-packages/scipy/stats/_continuous_distns.py:2131: RuntimeWarning: The shape parameter of the erlang distribution has been given a non-integer value 8.456164292306692.\n",
      "  RuntimeWarning)\n",
      "/usr/local/lib/python2.7/dist-packages/scipy/stats/_continuous_distns.py:2131: RuntimeWarning: The shape parameter of the erlang distribution has been given a non-integer value 9.2341374436024743.\n",
      "  RuntimeWarning)\n",
      "/usr/local/lib/python2.7/dist-packages/scipy/stats/_continuous_distns.py:2131: RuntimeWarning: The shape parameter of the erlang distribution has been given a non-integer value 8.9666137425903472.\n",
      "  RuntimeWarning)\n",
      "/usr/local/lib/python2.7/dist-packages/scipy/stats/_continuous_distns.py:2131: RuntimeWarning: The shape parameter of the erlang distribution has been given a non-integer value 8.3505410859338731.\n",
      "  RuntimeWarning)\n",
      "/usr/local/lib/python2.7/dist-packages/scipy/stats/_continuous_distns.py:2131: RuntimeWarning: The shape parameter of the erlang distribution has been given a non-integer value 8.1711152318977298.\n",
      "  RuntimeWarning)\n",
      "/usr/local/lib/python2.7/dist-packages/scipy/stats/_continuous_distns.py:2131: RuntimeWarning: The shape parameter of the erlang distribution has been given a non-integer value 7.5392426087449778.\n",
      "  RuntimeWarning)\n",
      "/usr/local/lib/python2.7/dist-packages/scipy/stats/_continuous_distns.py:2131: RuntimeWarning: The shape parameter of the erlang distribution has been given a non-integer value 7.9003713036540724.\n",
      "  RuntimeWarning)\n",
      "/usr/local/lib/python2.7/dist-packages/scipy/stats/_continuous_distns.py:2131: RuntimeWarning: The shape parameter of the erlang distribution has been given a non-integer value 7.3046525871674959.\n",
      "  RuntimeWarning)\n",
      "/usr/local/lib/python2.7/dist-packages/scipy/stats/_continuous_distns.py:2131: RuntimeWarning: The shape parameter of the erlang distribution has been given a non-integer value 7.9443799551698433.\n",
      "  RuntimeWarning)\n",
      "/usr/local/lib/python2.7/dist-packages/scipy/stats/_continuous_distns.py:2131: RuntimeWarning: The shape parameter of the erlang distribution has been given a non-integer value 7.7412993897878266.\n",
      "  RuntimeWarning)\n",
      "/usr/local/lib/python2.7/dist-packages/scipy/stats/_continuous_distns.py:2131: RuntimeWarning: The shape parameter of the erlang distribution has been given a non-integer value 6.6468181068996994.\n",
      "  RuntimeWarning)\n",
      "/usr/local/lib/python2.7/dist-packages/scipy/stats/_continuous_distns.py:2131: RuntimeWarning: The shape parameter of the erlang distribution has been given a non-integer value 6.4261185342602971.\n",
      "  RuntimeWarning)\n",
      "/usr/local/lib/python2.7/dist-packages/scipy/stats/_continuous_distns.py:2131: RuntimeWarning: The shape parameter of the erlang distribution has been given a non-integer value 5.5536201854415808.\n",
      "  RuntimeWarning)\n",
      "/usr/local/lib/python2.7/dist-packages/scipy/stats/_continuous_distns.py:2131: RuntimeWarning: The shape parameter of the erlang distribution has been given a non-integer value 7.8032826108320581.\n",
      "  RuntimeWarning)\n",
      "/usr/local/lib/python2.7/dist-packages/scipy/stats/_continuous_distns.py:2131: RuntimeWarning: The shape parameter of the erlang distribution has been given a non-integer value 7.5141664848489684.\n",
      "  RuntimeWarning)\n",
      "/usr/local/lib/python2.7/dist-packages/scipy/stats/_continuous_distns.py:2131: RuntimeWarning: The shape parameter of the erlang distribution has been given a non-integer value 7.28512406235191.\n",
      "  RuntimeWarning)\n",
      "/usr/local/lib/python2.7/dist-packages/scipy/stats/_continuous_distns.py:2131: RuntimeWarning: The shape parameter of the erlang distribution has been given a non-integer value 7.2753597999441162.\n",
      "  RuntimeWarning)\n",
      "/usr/local/lib/python2.7/dist-packages/scipy/stats/_continuous_distns.py:2131: RuntimeWarning: The shape parameter of the erlang distribution has been given a non-integer value 6.2058927658042737.\n",
      "  RuntimeWarning)\n",
      "/usr/local/lib/python2.7/dist-packages/scipy/stats/_continuous_distns.py:2131: RuntimeWarning: The shape parameter of the erlang distribution has been given a non-integer value 5.3366491711214898.\n",
      "  RuntimeWarning)\n",
      "/usr/local/lib/python2.7/dist-packages/scipy/stats/_continuous_distns.py:2131: RuntimeWarning: The shape parameter of the erlang distribution has been given a non-integer value 5.7639237567620194.\n",
      "  RuntimeWarning)\n",
      "/usr/local/lib/python2.7/dist-packages/scipy/stats/_continuous_distns.py:2131: RuntimeWarning: The shape parameter of the erlang distribution has been given a non-integer value 6.2014844387837567.\n",
      "  RuntimeWarning)\n",
      "/usr/local/lib/python2.7/dist-packages/scipy/stats/_continuous_distns.py:2131: RuntimeWarning: The shape parameter of the erlang distribution has been given a non-integer value 6.7022156436996649.\n",
      "  RuntimeWarning)\n",
      "/usr/local/lib/python2.7/dist-packages/scipy/stats/_continuous_distns.py:2131: RuntimeWarning: The shape parameter of the erlang distribution has been given a non-integer value 6.840264198419348.\n",
      "  RuntimeWarning)\n",
      "/usr/local/lib/python2.7/dist-packages/scipy/stats/_continuous_distns.py:2131: RuntimeWarning: The shape parameter of the erlang distribution has been given a non-integer value 5.454604503173222.\n",
      "  RuntimeWarning)\n",
      "/usr/local/lib/python2.7/dist-packages/scipy/stats/_continuous_distns.py:2131: RuntimeWarning: The shape parameter of the erlang distribution has been given a non-integer value 6.8274941725572376.\n",
      "  RuntimeWarning)\n",
      "/usr/local/lib/python2.7/dist-packages/scipy/stats/_continuous_distns.py:2131: RuntimeWarning: The shape parameter of the erlang distribution has been given a non-integer value 6.9482367375561651.\n",
      "  RuntimeWarning)\n",
      "/usr/local/lib/python2.7/dist-packages/scipy/stats/_continuous_distns.py:2131: RuntimeWarning: The shape parameter of the erlang distribution has been given a non-integer value 6.7626507446181927.\n",
      "  RuntimeWarning)\n",
      "/usr/local/lib/python2.7/dist-packages/scipy/stats/_continuous_distns.py:2131: RuntimeWarning: The shape parameter of the erlang distribution has been given a non-integer value 7.3267559351329741.\n",
      "  RuntimeWarning)\n",
      "/usr/local/lib/python2.7/dist-packages/scipy/stats/_continuous_distns.py:2131: RuntimeWarning: The shape parameter of the erlang distribution has been given a non-integer value 6.482802312871061.\n",
      "  RuntimeWarning)\n",
      "/usr/local/lib/python2.7/dist-packages/scipy/stats/_continuous_distns.py:2131: RuntimeWarning: The shape parameter of the erlang distribution has been given a non-integer value 6.4709516282353743.\n",
      "  RuntimeWarning)\n",
      "/usr/local/lib/python2.7/dist-packages/scipy/stats/_continuous_distns.py:2131: RuntimeWarning: The shape parameter of the erlang distribution has been given a non-integer value 6.2926803560744418.\n",
      "  RuntimeWarning)\n",
      "/usr/local/lib/python2.7/dist-packages/scipy/stats/_continuous_distns.py:2131: RuntimeWarning: The shape parameter of the erlang distribution has been given a non-integer value 6.2224814638119179.\n",
      "  RuntimeWarning)\n",
      "/usr/local/lib/python2.7/dist-packages/scipy/stats/_continuous_distns.py:2131: RuntimeWarning: The shape parameter of the erlang distribution has been given a non-integer value 5.9523968234087814.\n",
      "  RuntimeWarning)\n",
      "/usr/local/lib/python2.7/dist-packages/scipy/stats/_continuous_distns.py:2131: RuntimeWarning: The shape parameter of the erlang distribution has been given a non-integer value 6.1487262359175316.\n",
      "  RuntimeWarning)\n",
      "/usr/local/lib/python2.7/dist-packages/scipy/stats/_continuous_distns.py:2131: RuntimeWarning: The shape parameter of the erlang distribution has been given a non-integer value 5.9816881974407661.\n",
      "  RuntimeWarning)\n",
      "/usr/local/lib/python2.7/dist-packages/scipy/stats/_continuous_distns.py:2131: RuntimeWarning: The shape parameter of the erlang distribution has been given a non-integer value 5.4489612742496618.\n",
      "  RuntimeWarning)\n",
      "/usr/local/lib/python2.7/dist-packages/scipy/stats/_continuous_distns.py:2131: RuntimeWarning: The shape parameter of the erlang distribution has been given a non-integer value 5.2960171739916984.\n",
      "  RuntimeWarning)\n",
      "/usr/local/lib/python2.7/dist-packages/scipy/stats/_continuous_distns.py:2131: RuntimeWarning: The shape parameter of the erlang distribution has been given a non-integer value 4.7976855829503258.\n",
      "  RuntimeWarning)\n",
      "/usr/local/lib/python2.7/dist-packages/scipy/stats/_continuous_distns.py:2131: RuntimeWarning: The shape parameter of the erlang distribution has been given a non-integer value 5.1987142737126355.\n",
      "  RuntimeWarning)\n",
      "/usr/local/lib/python2.7/dist-packages/scipy/stats/_continuous_distns.py:2131: RuntimeWarning: The shape parameter of the erlang distribution has been given a non-integer value 4.8218729988645634.\n",
      "  RuntimeWarning)\n",
      "/usr/local/lib/python2.7/dist-packages/scipy/stats/_continuous_distns.py:2131: RuntimeWarning: The shape parameter of the erlang distribution has been given a non-integer value 5.5353184891804048.\n",
      "  RuntimeWarning)\n",
      "/usr/local/lib/python2.7/dist-packages/scipy/stats/_continuous_distns.py:2131: RuntimeWarning: The shape parameter of the erlang distribution has been given a non-integer value 5.5784970966457763.\n",
      "  RuntimeWarning)\n",
      "/usr/local/lib/python2.7/dist-packages/scipy/stats/_continuous_distns.py:2131: RuntimeWarning: The shape parameter of the erlang distribution has been given a non-integer value 4.7050117604823924.\n",
      "  RuntimeWarning)\n",
      "/usr/local/lib/python2.7/dist-packages/scipy/stats/_continuous_distns.py:2131: RuntimeWarning: The shape parameter of the erlang distribution has been given a non-integer value 5.6625190882011722.\n",
      "  RuntimeWarning)\n",
      "/usr/local/lib/python2.7/dist-packages/scipy/stats/_continuous_distns.py:2131: RuntimeWarning: The shape parameter of the erlang distribution has been given a non-integer value 5.6350173934044427.\n",
      "  RuntimeWarning)\n",
      "/usr/local/lib/python2.7/dist-packages/scipy/stats/_continuous_distns.py:2131: RuntimeWarning: The shape parameter of the erlang distribution has been given a non-integer value 5.2501810159971498.\n",
      "  RuntimeWarning)\n",
      "/usr/local/lib/python2.7/dist-packages/scipy/stats/_continuous_distns.py:2131: RuntimeWarning: The shape parameter of the erlang distribution has been given a non-integer value 5.0440119798951386.\n",
      "  RuntimeWarning)\n",
      "/usr/local/lib/python2.7/dist-packages/scipy/stats/_continuous_distns.py:2131: RuntimeWarning: The shape parameter of the erlang distribution has been given a non-integer value 5.6108509679406886.\n",
      "  RuntimeWarning)\n",
      "/usr/local/lib/python2.7/dist-packages/scipy/stats/_continuous_distns.py:2131: RuntimeWarning: The shape parameter of the erlang distribution has been given a non-integer value 5.5078167943836753.\n",
      "  RuntimeWarning)\n",
      "/usr/local/lib/python2.7/dist-packages/scipy/stats/_continuous_distns.py:2131: RuntimeWarning: The shape parameter of the erlang distribution has been given a non-integer value 5.0897474489017025.\n",
      "  RuntimeWarning)\n",
      "/usr/local/lib/python2.7/dist-packages/scipy/stats/_continuous_distns.py:2131: RuntimeWarning: The shape parameter of the erlang distribution has been given a non-integer value 4.8171124766503333.\n",
      "  RuntimeWarning)\n",
      "/usr/local/lib/python2.7/dist-packages/scipy/stats/_continuous_distns.py:2131: RuntimeWarning: The shape parameter of the erlang distribution has been given a non-integer value 4.71064234477236.\n",
      "  RuntimeWarning)\n",
      "/usr/local/lib/python2.7/dist-packages/scipy/stats/_continuous_distns.py:2131: RuntimeWarning: The shape parameter of the erlang distribution has been given a non-integer value 4.2066944064948792.\n",
      "  RuntimeWarning)\n",
      "/usr/local/lib/python2.7/dist-packages/scipy/stats/_continuous_distns.py:2131: RuntimeWarning: The shape parameter of the erlang distribution has been given a non-integer value 5.1825361974114763.\n",
      "  RuntimeWarning)\n",
      "/usr/local/lib/python2.7/dist-packages/scipy/stats/_continuous_distns.py:2131: RuntimeWarning: The shape parameter of the erlang distribution has been given a non-integer value 4.7628486993276411.\n",
      "  RuntimeWarning)\n",
      "/usr/local/lib/python2.7/dist-packages/scipy/stats/_continuous_distns.py:2131: RuntimeWarning: The shape parameter of the erlang distribution has been given a non-integer value 4.6222670590438923.\n",
      "  RuntimeWarning)\n",
      "/usr/local/lib/python2.7/dist-packages/scipy/stats/_continuous_distns.py:2131: RuntimeWarning: The shape parameter of the erlang distribution has been given a non-integer value 5.037301477298108.\n",
      "  RuntimeWarning)\n",
      "/usr/local/lib/python2.7/dist-packages/scipy/stats/_continuous_distns.py:2131: RuntimeWarning: The shape parameter of the erlang distribution has been given a non-integer value 4.4685844779167461.\n",
      "  RuntimeWarning)\n",
      "/usr/local/lib/python2.7/dist-packages/scipy/stats/_continuous_distns.py:2131: RuntimeWarning: The shape parameter of the erlang distribution has been given a non-integer value 4.2346745317758732.\n",
      "  RuntimeWarning)\n",
      "/usr/local/lib/python2.7/dist-packages/scipy/stats/_continuous_distns.py:2131: RuntimeWarning: The shape parameter of the erlang distribution has been given a non-integer value 4.0665715691740072.\n",
      "  RuntimeWarning)\n",
      "/usr/local/lib/python2.7/dist-packages/scipy/stats/_continuous_distns.py:2131: RuntimeWarning: The shape parameter of the erlang distribution has been given a non-integer value 3.691301115435845.\n",
      "  RuntimeWarning)\n",
      "/usr/local/lib/python2.7/dist-packages/scipy/stats/_continuous_distns.py:2131: RuntimeWarning: The shape parameter of the erlang distribution has been given a non-integer value 4.53694087231389.\n",
      "  RuntimeWarning)\n",
      "/usr/local/lib/python2.7/dist-packages/scipy/stats/_continuous_distns.py:2131: RuntimeWarning: The shape parameter of the erlang distribution has been given a non-integer value 4.348601855771113.\n",
      "  RuntimeWarning)\n",
      "/usr/local/lib/python2.7/dist-packages/scipy/stats/_continuous_distns.py:2131: RuntimeWarning: The shape parameter of the erlang distribution has been given a non-integer value 4.2886105446982974.\n",
      "  RuntimeWarning)\n",
      "/usr/local/lib/python2.7/dist-packages/scipy/stats/_continuous_distns.py:2131: RuntimeWarning: The shape parameter of the erlang distribution has been given a non-integer value 4.1146919096302419.\n",
      "  RuntimeWarning)\n",
      "/usr/local/lib/python2.7/dist-packages/scipy/stats/_continuous_distns.py:2131: RuntimeWarning: The shape parameter of the erlang distribution has been given a non-integer value 4.4313786316429784.\n",
      "  RuntimeWarning)\n",
      "/usr/local/lib/python2.7/dist-packages/scipy/stats/_continuous_distns.py:2131: RuntimeWarning: The shape parameter of the erlang distribution has been given a non-integer value 3.9021067712996302.\n",
      "  RuntimeWarning)\n",
      "/usr/local/lib/python2.7/dist-packages/scipy/stats/_continuous_distns.py:2131: RuntimeWarning: The shape parameter of the erlang distribution has been given a non-integer value 3.5420266274275001.\n",
      "  RuntimeWarning)\n",
      "/usr/local/lib/python2.7/dist-packages/scipy/stats/_continuous_distns.py:2131: RuntimeWarning: The shape parameter of the erlang distribution has been given a non-integer value 3.5000938625568914.\n",
      "  RuntimeWarning)\n",
      "/usr/local/lib/python2.7/dist-packages/scipy/stats/_continuous_distns.py:2131: RuntimeWarning: The shape parameter of the erlang distribution has been given a non-integer value 3.487249120614452.\n",
      "  RuntimeWarning)\n",
      "/usr/local/lib/python2.7/dist-packages/scipy/stats/_continuous_distns.py:2131: RuntimeWarning: The shape parameter of the erlang distribution has been given a non-integer value 3.1975878963346744.\n",
      "  RuntimeWarning)\n",
      "/usr/local/lib/python2.7/dist-packages/scipy/stats/_continuous_distns.py:2131: RuntimeWarning: The shape parameter of the erlang distribution has been given a non-integer value 4.0451636659366086.\n",
      "  RuntimeWarning)\n",
      "/usr/local/lib/python2.7/dist-packages/scipy/stats/_continuous_distns.py:2131: RuntimeWarning: The shape parameter of the erlang distribution has been given a non-integer value 3.0943490646207428.\n",
      "  RuntimeWarning)\n",
      "/usr/local/lib/python2.7/dist-packages/scipy/stats/_continuous_distns.py:2131: RuntimeWarning: The shape parameter of the erlang distribution has been given a non-integer value 3.3929144346401312.\n",
      "  RuntimeWarning)\n",
      "/usr/local/lib/python2.7/dist-packages/scipy/stats/_continuous_distns.py:2131: RuntimeWarning: The shape parameter of the erlang distribution has been given a non-integer value 3.7415248533666281.\n",
      "  RuntimeWarning)\n",
      "/usr/local/lib/python2.7/dist-packages/scipy/stats/_continuous_distns.py:2131: RuntimeWarning: The shape parameter of the erlang distribution has been given a non-integer value 3.8412739663361926.\n",
      "  RuntimeWarning)\n",
      "/usr/local/lib/python2.7/dist-packages/scipy/stats/_continuous_distns.py:2131: RuntimeWarning: The shape parameter of the erlang distribution has been given a non-integer value 3.035961939810865.\n",
      "  RuntimeWarning)\n",
      "/usr/local/lib/python2.7/dist-packages/scipy/stats/_continuous_distns.py:2131: RuntimeWarning: The shape parameter of the erlang distribution has been given a non-integer value 3.7928632344051727.\n",
      "  RuntimeWarning)\n",
      "/usr/local/lib/python2.7/dist-packages/scipy/stats/_continuous_distns.py:2131: RuntimeWarning: The shape parameter of the erlang distribution has been given a non-integer value 3.797619227660169.\n",
      "  RuntimeWarning)\n",
      "/usr/local/lib/python2.7/dist-packages/scipy/stats/_continuous_distns.py:2131: RuntimeWarning: The shape parameter of the erlang distribution has been given a non-integer value 3.9528042811830275.\n",
      "  RuntimeWarning)\n",
      "/usr/local/lib/python2.7/dist-packages/scipy/stats/_continuous_distns.py:2131: RuntimeWarning: The shape parameter of the erlang distribution has been given a non-integer value 4.161757108981182.\n",
      "  RuntimeWarning)\n",
      "/usr/local/lib/python2.7/dist-packages/scipy/stats/_continuous_distns.py:2131: RuntimeWarning: The shape parameter of the erlang distribution has been given a non-integer value 3.5851251032253941.\n",
      "  RuntimeWarning)\n",
      "/usr/local/lib/python2.7/dist-packages/scipy/stats/_continuous_distns.py:2131: RuntimeWarning: The shape parameter of the erlang distribution has been given a non-integer value 3.6233162217629551.\n",
      "  RuntimeWarning)\n",
      "/usr/local/lib/python2.7/dist-packages/scipy/stats/_continuous_distns.py:2131: RuntimeWarning: The shape parameter of the erlang distribution has been given a non-integer value 3.5385427154418467.\n",
      "  RuntimeWarning)\n",
      "/usr/local/lib/python2.7/dist-packages/scipy/stats/_continuous_distns.py:2131: RuntimeWarning: The shape parameter of the erlang distribution has been given a non-integer value 3.5393331775183121.\n",
      "  RuntimeWarning)\n",
      "/usr/local/lib/python2.7/dist-packages/scipy/stats/_continuous_distns.py:2131: RuntimeWarning: The shape parameter of the erlang distribution has been given a non-integer value 3.311048103130199.\n",
      "  RuntimeWarning)\n",
      "/usr/local/lib/python2.7/dist-packages/scipy/stats/_continuous_distns.py:2131: RuntimeWarning: The shape parameter of the erlang distribution has been given a non-integer value 3.3408242275015114.\n",
      "  RuntimeWarning)\n",
      "/usr/local/lib/python2.7/dist-packages/scipy/stats/_continuous_distns.py:2131: RuntimeWarning: The shape parameter of the erlang distribution has been given a non-integer value 3.2186737896395705.\n",
      "  RuntimeWarning)\n",
      "/usr/local/lib/python2.7/dist-packages/scipy/stats/_continuous_distns.py:2131: RuntimeWarning: The shape parameter of the erlang distribution has been given a non-integer value 3.1728432279560996.\n",
      "  RuntimeWarning)\n",
      "/usr/local/lib/python2.7/dist-packages/scipy/stats/_continuous_distns.py:2131: RuntimeWarning: The shape parameter of the erlang distribution has been given a non-integer value 3.3089917188948119.\n",
      "  RuntimeWarning)\n",
      "/usr/local/lib/python2.7/dist-packages/scipy/stats/_continuous_distns.py:2131: RuntimeWarning: The shape parameter of the erlang distribution has been given a non-integer value 2.9284631088851416.\n",
      "  RuntimeWarning)\n",
      "/usr/local/lib/python2.7/dist-packages/scipy/stats/_continuous_distns.py:2131: RuntimeWarning: The shape parameter of the erlang distribution has been given a non-integer value 2.6234233056067886.\n",
      "  RuntimeWarning)\n",
      "/usr/local/lib/python2.7/dist-packages/scipy/stats/_continuous_distns.py:2131: RuntimeWarning: The shape parameter of the erlang distribution has been given a non-integer value 3.1312425169902491.\n",
      "  RuntimeWarning)\n",
      "/usr/local/lib/python2.7/dist-packages/scipy/stats/_continuous_distns.py:2131: RuntimeWarning: The shape parameter of the erlang distribution has been given a non-integer value 2.8765945581151628.\n",
      "  RuntimeWarning)\n",
      "/usr/local/lib/python2.7/dist-packages/scipy/stats/_continuous_distns.py:2131: RuntimeWarning: The shape parameter of the erlang distribution has been given a non-integer value 3.2008924286998997.\n",
      "  RuntimeWarning)\n",
      "/usr/local/lib/python2.7/dist-packages/scipy/stats/_continuous_distns.py:2131: RuntimeWarning: The shape parameter of the erlang distribution has been given a non-integer value 2.9550582467439561.\n",
      "  RuntimeWarning)\n",
      "/usr/local/lib/python2.7/dist-packages/scipy/stats/_continuous_distns.py:2131: RuntimeWarning: The shape parameter of the erlang distribution has been given a non-integer value 2.8232504752961489.\n",
      "  RuntimeWarning)\n",
      "/usr/local/lib/python2.7/dist-packages/scipy/stats/_continuous_distns.py:2131: RuntimeWarning: The shape parameter of the erlang distribution has been given a non-integer value 2.7210783054144607.\n",
      "  RuntimeWarning)\n",
      "/usr/local/lib/python2.7/dist-packages/scipy/stats/_continuous_distns.py:2131: RuntimeWarning: The shape parameter of the erlang distribution has been given a non-integer value 2.4811712437717413.\n",
      "  RuntimeWarning)\n",
      "/usr/local/lib/python2.7/dist-packages/scipy/stats/_continuous_distns.py:2131: RuntimeWarning: The shape parameter of the erlang distribution has been given a non-integer value 2.5172854094069184.\n",
      "  RuntimeWarning)\n",
      "/usr/local/lib/python2.7/dist-packages/scipy/stats/_continuous_distns.py:2131: RuntimeWarning: The shape parameter of the erlang distribution has been given a non-integer value 2.9777532400944162.\n",
      "  RuntimeWarning)\n",
      "/usr/local/lib/python2.7/dist-packages/scipy/stats/_continuous_distns.py:2131: RuntimeWarning: The shape parameter of the erlang distribution has been given a non-integer value 2.7529249049848756.\n",
      "  RuntimeWarning)\n",
      "/usr/local/lib/python2.7/dist-packages/scipy/stats/_continuous_distns.py:2131: RuntimeWarning: The shape parameter of the erlang distribution has been given a non-integer value 2.6651558030347431.\n",
      "  RuntimeWarning)\n",
      "/usr/local/lib/python2.7/dist-packages/scipy/stats/_continuous_distns.py:2131: RuntimeWarning: The shape parameter of the erlang distribution has been given a non-integer value 2.4952364824024853.\n",
      "  RuntimeWarning)\n",
      "/usr/local/lib/python2.7/dist-packages/scipy/stats/_continuous_distns.py:2131: RuntimeWarning: The shape parameter of the erlang distribution has been given a non-integer value 2.2539781035565198.\n",
      "  RuntimeWarning)\n",
      "/usr/local/lib/python2.7/dist-packages/scipy/stats/_continuous_distns.py:2131: RuntimeWarning: The shape parameter of the erlang distribution has been given a non-integer value 2.4310632519383111.\n",
      "  RuntimeWarning)\n",
      "/usr/local/lib/python2.7/dist-packages/scipy/stats/_continuous_distns.py:2131: RuntimeWarning: The shape parameter of the erlang distribution has been given a non-integer value 2.2349696402593917.\n",
      "  RuntimeWarning)\n",
      "/usr/local/lib/python2.7/dist-packages/scipy/stats/_continuous_distns.py:2131: RuntimeWarning: The shape parameter of the erlang distribution has been given a non-integer value 2.3398920528358986.\n",
      "  RuntimeWarning)\n",
      "/usr/local/lib/python2.7/dist-packages/scipy/stats/_continuous_distns.py:2131: RuntimeWarning: The shape parameter of the erlang distribution has been given a non-integer value 2.1789720550830536.\n",
      "  RuntimeWarning)\n",
      "/usr/local/lib/python2.7/dist-packages/scipy/stats/_continuous_distns.py:2131: RuntimeWarning: The shape parameter of the erlang distribution has been given a non-integer value 2.5436098660468209.\n",
      "  RuntimeWarning)\n",
      "/usr/local/lib/python2.7/dist-packages/scipy/stats/_continuous_distns.py:2131: RuntimeWarning: The shape parameter of the erlang distribution has been given a non-integer value 2.6400476807558459.\n",
      "  RuntimeWarning)\n",
      "/usr/local/lib/python2.7/dist-packages/scipy/stats/_continuous_distns.py:2131: RuntimeWarning: The shape parameter of the erlang distribution has been given a non-integer value 2.4149309598158855.\n",
      "  RuntimeWarning)\n",
      "/usr/local/lib/python2.7/dist-packages/scipy/stats/_continuous_distns.py:2131: RuntimeWarning: The shape parameter of the erlang distribution has been given a non-integer value 2.431166236131526.\n",
      "  RuntimeWarning)\n",
      "/usr/local/lib/python2.7/dist-packages/scipy/stats/_continuous_distns.py:2131: RuntimeWarning: The shape parameter of the erlang distribution has been given a non-integer value 2.4792189208347457.\n",
      "  RuntimeWarning)\n",
      "/usr/local/lib/python2.7/dist-packages/scipy/stats/_continuous_distns.py:2131: RuntimeWarning: The shape parameter of the erlang distribution has been given a non-integer value 2.52744324585999.\n",
      "  RuntimeWarning)\n",
      "/usr/local/lib/python2.7/dist-packages/scipy/stats/_continuous_distns.py:2131: RuntimeWarning: The shape parameter of the erlang distribution has been given a non-integer value 2.455158250418731.\n",
      "  RuntimeWarning)\n",
      "/usr/local/lib/python2.7/dist-packages/scipy/stats/_continuous_distns.py:2131: RuntimeWarning: The shape parameter of the erlang distribution has been given a non-integer value 2.3559288879994202.\n",
      "  RuntimeWarning)\n",
      "/usr/local/lib/python2.7/dist-packages/scipy/stats/_continuous_distns.py:2131: RuntimeWarning: The shape parameter of the erlang distribution has been given a non-integer value 2.4028491325112706.\n",
      "  RuntimeWarning)\n",
      "/usr/local/lib/python2.7/dist-packages/scipy/stats/_continuous_distns.py:2131: RuntimeWarning: The shape parameter of the erlang distribution has been given a non-integer value 2.4765532426939458.\n",
      "  RuntimeWarning)\n",
      "/usr/local/lib/python2.7/dist-packages/scipy/stats/_continuous_distns.py:2131: RuntimeWarning: The shape parameter of the erlang distribution has been given a non-integer value 2.4611476719744307.\n",
      "  RuntimeWarning)\n",
      "/usr/local/lib/python2.7/dist-packages/scipy/stats/_continuous_distns.py:2131: RuntimeWarning: The shape parameter of the erlang distribution has been given a non-integer value 2.4002177824348765.\n",
      "  RuntimeWarning)\n",
      "/usr/local/lib/python2.7/dist-packages/scipy/stats/_continuous_distns.py:2131: RuntimeWarning: The shape parameter of the erlang distribution has been given a non-integer value 2.4594686362347784.\n",
      "  RuntimeWarning)\n",
      "/usr/local/lib/python2.7/dist-packages/scipy/stats/_continuous_distns.py:2131: RuntimeWarning: The shape parameter of the erlang distribution has been given a non-integer value 2.5143339065740231.\n",
      "  RuntimeWarning)\n",
      "/usr/local/lib/python2.7/dist-packages/scipy/stats/_continuous_distns.py:2131: RuntimeWarning: The shape parameter of the erlang distribution has been given a non-integer value 2.4864627130583346.\n",
      "  RuntimeWarning)\n",
      "/usr/local/lib/python2.7/dist-packages/scipy/stats/_continuous_distns.py:2131: RuntimeWarning: The shape parameter of the erlang distribution has been given a non-integer value 2.4729120611667983.\n",
      "  RuntimeWarning)\n",
      "/usr/local/lib/python2.7/dist-packages/scipy/stats/_continuous_distns.py:2131: RuntimeWarning: The shape parameter of the erlang distribution has been given a non-integer value 2.4835533801944636.\n",
      "  RuntimeWarning)\n",
      "/usr/local/lib/python2.7/dist-packages/scipy/stats/_continuous_distns.py:2131: RuntimeWarning: The shape parameter of the erlang distribution has been given a non-integer value 2.4654898222246997.\n",
      "  RuntimeWarning)\n",
      "/usr/local/lib/python2.7/dist-packages/scipy/stats/_continuous_distns.py:2131: RuntimeWarning: The shape parameter of the erlang distribution has been given a non-integer value 2.4947514805478246.\n",
      "  RuntimeWarning)\n",
      "/usr/local/lib/python2.7/dist-packages/scipy/stats/_continuous_distns.py:2131: RuntimeWarning: The shape parameter of the erlang distribution has been given a non-integer value 2.4650565579510042.\n",
      "  RuntimeWarning)\n",
      "/usr/local/lib/python2.7/dist-packages/scipy/stats/_continuous_distns.py:2131: RuntimeWarning: The shape parameter of the erlang distribution has been given a non-integer value 2.4717606676558943.\n",
      "  RuntimeWarning)\n",
      "/usr/local/lib/python2.7/dist-packages/scipy/stats/_continuous_distns.py:2131: RuntimeWarning: The shape parameter of the erlang distribution has been given a non-integer value 2.4726242127890723.\n",
      "  RuntimeWarning)\n",
      "/usr/local/lib/python2.7/dist-packages/scipy/stats/_continuous_distns.py:2131: RuntimeWarning: The shape parameter of the erlang distribution has been given a non-integer value 2.4489843489181826.\n",
      "  RuntimeWarning)\n",
      "/usr/local/lib/python2.7/dist-packages/scipy/stats/_continuous_distns.py:2131: RuntimeWarning: The shape parameter of the erlang distribution has been given a non-integer value 2.4770931220232963.\n",
      "  RuntimeWarning)\n",
      "/usr/local/lib/python2.7/dist-packages/scipy/stats/_continuous_distns.py:2131: RuntimeWarning: The shape parameter of the erlang distribution has been given a non-integer value 2.4776927729508822.\n",
      "  RuntimeWarning)\n",
      "/usr/local/lib/python2.7/dist-packages/scipy/stats/_continuous_distns.py:2131: RuntimeWarning: The shape parameter of the erlang distribution has been given a non-integer value 2.4685405599062453.\n",
      "  RuntimeWarning)\n",
      "/usr/local/lib/python2.7/dist-packages/scipy/stats/_continuous_distns.py:2131: RuntimeWarning: The shape parameter of the erlang distribution has been given a non-integer value 2.4678359471312916.\n",
      "  RuntimeWarning)\n",
      "/usr/local/lib/python2.7/dist-packages/scipy/stats/_continuous_distns.py:2131: RuntimeWarning: The shape parameter of the erlang distribution has been given a non-integer value 2.4571955879690641.\n",
      "  RuntimeWarning)\n",
      "/usr/local/lib/python2.7/dist-packages/scipy/stats/_continuous_distns.py:2131: RuntimeWarning: The shape parameter of the erlang distribution has been given a non-integer value 2.4639915053867298.\n",
      "  RuntimeWarning)\n",
      "/usr/local/lib/python2.7/dist-packages/scipy/stats/_continuous_distns.py:2131: RuntimeWarning: The shape parameter of the erlang distribution has been given a non-integer value 2.4647902948099354.\n",
      "  RuntimeWarning)\n",
      "/usr/local/lib/python2.7/dist-packages/scipy/stats/_continuous_distns.py:2131: RuntimeWarning: The shape parameter of the erlang distribution has been given a non-integer value 2.4591816813255383.\n",
      "  RuntimeWarning)\n",
      "/usr/local/lib/python2.7/dist-packages/scipy/stats/_continuous_distns.py:2131: RuntimeWarning: The shape parameter of the erlang distribution has been given a non-integer value 2.4656723806798535.\n",
      "  RuntimeWarning)\n",
      "/usr/local/lib/python2.7/dist-packages/scipy/stats/_continuous_distns.py:2131: RuntimeWarning: The shape parameter of the erlang distribution has been given a non-integer value 2.475473235628292.\n",
      "  RuntimeWarning)\n",
      "/usr/local/lib/python2.7/dist-packages/scipy/stats/_continuous_distns.py:2131: RuntimeWarning: The shape parameter of the erlang distribution has been given a non-integer value 2.4617649998838713.\n",
      "  RuntimeWarning)\n",
      "/usr/local/lib/python2.7/dist-packages/scipy/stats/_continuous_distns.py:2131: RuntimeWarning: The shape parameter of the erlang distribution has been given a non-integer value 2.4596112236761951.\n",
      "  RuntimeWarning)\n",
      "/usr/local/lib/python2.7/dist-packages/scipy/stats/_continuous_distns.py:2131: RuntimeWarning: The shape parameter of the erlang distribution has been given a non-integer value 2.4663082258487328.\n",
      "  RuntimeWarning)\n",
      "/usr/local/lib/python2.7/dist-packages/scipy/stats/_continuous_distns.py:2131: RuntimeWarning: The shape parameter of the erlang distribution has been given a non-integer value 2.4643734427983697.\n",
      "  RuntimeWarning)\n",
      "/usr/local/lib/python2.7/dist-packages/scipy/stats/_continuous_distns.py:2131: RuntimeWarning: The shape parameter of the erlang distribution has been given a non-integer value 2.4626253983407951.\n",
      "  RuntimeWarning)\n",
      "/usr/local/lib/python2.7/dist-packages/scipy/stats/_continuous_distns.py:2131: RuntimeWarning: The shape parameter of the erlang distribution has been given a non-integer value 2.4611019071712654.\n",
      "  RuntimeWarning)\n",
      "/usr/local/lib/python2.7/dist-packages/scipy/stats/_continuous_distns.py:2131: RuntimeWarning: The shape parameter of the erlang distribution has been given a non-integer value 2.4627589732505628.\n",
      "  RuntimeWarning)\n",
      "/usr/local/lib/python2.7/dist-packages/scipy/stats/_continuous_distns.py:2131: RuntimeWarning: The shape parameter of the erlang distribution has been given a non-integer value 2.463969825411418.\n",
      "  RuntimeWarning)\n",
      "/usr/local/lib/python2.7/dist-packages/scipy/stats/_continuous_distns.py:2131: RuntimeWarning: The shape parameter of the erlang distribution has been given a non-integer value 2.4668372998500923.\n",
      "  RuntimeWarning)\n",
      "/usr/local/lib/python2.7/dist-packages/scipy/stats/_continuous_distns.py:2131: RuntimeWarning: The shape parameter of the erlang distribution has been given a non-integer value 2.4630330748754266.\n",
      "  RuntimeWarning)\n",
      "/usr/local/lib/python2.7/dist-packages/scipy/stats/_continuous_distns.py:2131: RuntimeWarning: The shape parameter of the erlang distribution has been given a non-integer value 2.4601106399030264.\n",
      "  RuntimeWarning)\n",
      "/usr/local/lib/python2.7/dist-packages/scipy/stats/_continuous_distns.py:2131: RuntimeWarning: The shape parameter of the erlang distribution has been given a non-integer value 2.4647588293623062.\n",
      "  RuntimeWarning)\n",
      "/usr/local/lib/python2.7/dist-packages/scipy/stats/_continuous_distns.py:2131: RuntimeWarning: The shape parameter of the erlang distribution has been given a non-integer value 2.4652157547586384.\n",
      "  RuntimeWarning)\n",
      "/usr/local/lib/python2.7/dist-packages/scipy/stats/_continuous_distns.py:2131: RuntimeWarning: The shape parameter of the erlang distribution has been given a non-integer value 2.4632729874452561.\n",
      "  RuntimeWarning)\n",
      "/usr/local/lib/python2.7/dist-packages/scipy/stats/_continuous_distns.py:2131: RuntimeWarning: The shape parameter of the erlang distribution has been given a non-integer value 2.4634067690439077.\n",
      "  RuntimeWarning)\n",
      "/usr/local/lib/python2.7/dist-packages/scipy/stats/_continuous_distns.py:2131: RuntimeWarning: The shape parameter of the erlang distribution has been given a non-integer value 2.4638290613195402.\n",
      "  RuntimeWarning)\n",
      "/usr/local/lib/python2.7/dist-packages/scipy/stats/_continuous_distns.py:2131: RuntimeWarning: The shape parameter of the erlang distribution has been given a non-integer value 2.464874177209309.\n",
      "  RuntimeWarning)\n",
      "/usr/local/lib/python2.7/dist-packages/scipy/stats/_continuous_distns.py:2131: RuntimeWarning: The shape parameter of the erlang distribution has been given a non-integer value 2.4634933504588972.\n",
      "  RuntimeWarning)\n",
      "/usr/local/lib/python2.7/dist-packages/scipy/stats/_continuous_distns.py:2131: RuntimeWarning: The shape parameter of the erlang distribution has been given a non-integer value 2.4623047701201561.\n",
      "  RuntimeWarning)\n",
      "/usr/local/lib/python2.7/dist-packages/scipy/stats/_continuous_distns.py:2131: RuntimeWarning: The shape parameter of the erlang distribution has been given a non-integer value 2.4622183440299992.\n",
      "  RuntimeWarning)\n",
      "/usr/local/lib/python2.7/dist-packages/scipy/stats/_continuous_distns.py:2131: RuntimeWarning: The shape parameter of the erlang distribution has been given a non-integer value 2.4634263819971549.\n",
      "  RuntimeWarning)\n",
      "/usr/local/lib/python2.7/dist-packages/scipy/stats/_continuous_distns.py:2131: RuntimeWarning: The shape parameter of the erlang distribution has been given a non-integer value 2.464490376480716.\n",
      "  RuntimeWarning)\n",
      "/usr/local/lib/python2.7/dist-packages/scipy/stats/_continuous_distns.py:2131: RuntimeWarning: The shape parameter of the erlang distribution has been given a non-integer value 2.4628511717102963.\n",
      "  RuntimeWarning)\n",
      "/usr/local/lib/python2.7/dist-packages/scipy/stats/_continuous_distns.py:2131: RuntimeWarning: The shape parameter of the erlang distribution has been given a non-integer value 2.4632409486656428.\n",
      "  RuntimeWarning)\n",
      "/usr/local/lib/python2.7/dist-packages/scipy/stats/_continuous_distns.py:2131: RuntimeWarning: The shape parameter of the erlang distribution has been given a non-integer value 2.4632649777503528.\n",
      "  RuntimeWarning)\n",
      "/usr/local/lib/python2.7/dist-packages/scipy/stats/_continuous_distns.py:2131: RuntimeWarning: The shape parameter of the erlang distribution has been given a non-integer value 2.4628683371796383.\n",
      "  RuntimeWarning)\n",
      "/usr/local/lib/python2.7/dist-packages/scipy/stats/_continuous_distns.py:2131: RuntimeWarning: The shape parameter of the erlang distribution has been given a non-integer value 2.4633370971390827.\n",
      "  RuntimeWarning)\n",
      "/usr/local/lib/python2.7/dist-packages/scipy/stats/_continuous_distns.py:2131: RuntimeWarning: The shape parameter of the erlang distribution has been given a non-integer value 2.4628757824026666.\n",
      "  RuntimeWarning)\n",
      "/usr/local/lib/python2.7/dist-packages/scipy/stats/_continuous_distns.py:2131: RuntimeWarning: The shape parameter of the erlang distribution has been given a non-integer value 2.4632887320985328.\n",
      "  RuntimeWarning)\n",
      "/usr/local/lib/python2.7/dist-packages/scipy/stats/_continuous_distns.py:2131: RuntimeWarning: The shape parameter of the erlang distribution has been given a non-integer value 2.4637426996150156.\n",
      "  RuntimeWarning)\n",
      "/usr/local/lib/python2.7/dist-packages/scipy/stats/_continuous_distns.py:2131: RuntimeWarning: The shape parameter of the erlang distribution has been given a non-integer value 2.4635271758368518.\n",
      "  RuntimeWarning)\n",
      "/usr/local/lib/python2.7/dist-packages/scipy/stats/_continuous_distns.py:2131: RuntimeWarning: The shape parameter of the erlang distribution has been given a non-integer value 2.4633846168135252.\n",
      "  RuntimeWarning)\n",
      "/usr/local/lib/python2.7/dist-packages/scipy/stats/_continuous_distns.py:2131: RuntimeWarning: The shape parameter of the erlang distribution has been given a non-integer value 2.4628828514932577.\n",
      "  RuntimeWarning)\n",
      "/usr/local/lib/python2.7/dist-packages/scipy/stats/_continuous_distns.py:2131: RuntimeWarning: The shape parameter of the erlang distribution has been given a non-integer value 2.4635277375845761.\n",
      "  RuntimeWarning)\n",
      "/usr/local/lib/python2.7/dist-packages/scipy/stats/_continuous_distns.py:2131: RuntimeWarning: The shape parameter of the erlang distribution has been given a non-integer value 2.4635357465807375.\n",
      "  RuntimeWarning)\n",
      "/usr/local/lib/python2.7/dist-packages/scipy/stats/_continuous_distns.py:2131: RuntimeWarning: The shape parameter of the erlang distribution has been given a non-integer value 2.463332669957949.\n",
      "  RuntimeWarning)\n",
      "/usr/local/lib/python2.7/dist-packages/scipy/stats/_continuous_distns.py:2131: RuntimeWarning: The shape parameter of the erlang distribution has been given a non-integer value 2.463541284138834.\n",
      "  RuntimeWarning)\n",
      "/usr/local/lib/python2.7/dist-packages/scipy/stats/_continuous_distns.py:2131: RuntimeWarning: The shape parameter of the erlang distribution has been given a non-integer value 2.4634781461287583.\n",
      "  RuntimeWarning)\n",
      "/usr/local/lib/python2.7/dist-packages/scipy/stats/_continuous_distns.py:2131: RuntimeWarning: The shape parameter of the erlang distribution has been given a non-integer value 2.4635077523006634.\n",
      "  RuntimeWarning)\n",
      "/usr/local/lib/python2.7/dist-packages/scipy/stats/_continuous_distns.py:2131: RuntimeWarning: The shape parameter of the erlang distribution has been given a non-integer value 2.4634154006853097.\n",
      "  RuntimeWarning)\n",
      "/usr/local/lib/python2.7/dist-packages/scipy/stats/_continuous_distns.py:2131: RuntimeWarning: The shape parameter of the erlang distribution has been given a non-integer value 2.4632897402634346.\n",
      "  RuntimeWarning)\n",
      "/usr/local/lib/python2.7/dist-packages/scipy/stats/_continuous_distns.py:2131: RuntimeWarning: The shape parameter of the erlang distribution has been given a non-integer value 2.4632137278090376.\n",
      "  RuntimeWarning)\n",
      "/usr/local/lib/python2.7/dist-packages/scipy/stats/_continuous_distns.py:2131: RuntimeWarning: The shape parameter of the erlang distribution has been given a non-integer value 2.4631420246683047.\n",
      "  RuntimeWarning)\n",
      "/usr/local/lib/python2.7/dist-packages/scipy/stats/_continuous_distns.py:2131: RuntimeWarning: The shape parameter of the erlang distribution has been given a non-integer value 2.4633470566810587.\n",
      "  RuntimeWarning)\n",
      "/usr/local/lib/python2.7/dist-packages/scipy/stats/_continuous_distns.py:2131: RuntimeWarning: The shape parameter of the erlang distribution has been given a non-integer value 2.4634325834592579.\n",
      "  RuntimeWarning)\n",
      "/usr/local/lib/python2.7/dist-packages/scipy/stats/_continuous_distns.py:2131: RuntimeWarning: The shape parameter of the erlang distribution has been given a non-integer value 2.4632684417215929.\n",
      "  RuntimeWarning)\n",
      "/usr/local/lib/python2.7/dist-packages/scipy/stats/_continuous_distns.py:2131: RuntimeWarning: The shape parameter of the erlang distribution has been given a non-integer value array(2.4633470566810587).\n",
      "  RuntimeWarning)\n"
     ]
    },
    {
     "name": "stdout",
     "output_type": "stream",
     "text": [
      "Fitted expon distribution with error=15.4747972965)\n",
      "Fitted exponnorm distribution with error=13.6178637973)\n",
      "Fitted exponpow distribution with error=27.7571630297)\n",
      "Fitted exponweib distribution with error=13.8197463263)\n",
      "Fitted f distribution with error=13.859425258)\n",
      "Fitted fatiguelife distribution with error=13.6618405406)\n",
      "Fitted fisk distribution with error=13.8861614934)\n",
      "Fitted foldcauchy distribution with error=14.3196866242)\n",
      "Fitted foldnorm distribution with error=14.020761214)\n",
      "Fitted frechet_l distribution with error=13.9675619004)\n",
      "Fitted frechet_r distribution with error=13.6662832876)\n",
      "Fitted gamma distribution with error=13.6079705804)\n"
     ]
    },
    {
     "name": "stderr",
     "output_type": "stream",
     "text": [
      "/usr/local/lib/python2.7/dist-packages/scipy/stats/_continuous_distns.py:2595: RuntimeWarning: divide by zero encountered in power\n",
      "  return 1.0/Cinv * x**(a-1.0) * (1.0-x)**(b-1.0) / (1.0+z*x)**c\n"
     ]
    },
    {
     "name": "stdout",
     "output_type": "stream",
     "text": [
      "Fitted gausshyper distribution with error=14.3108653468)\n",
      "Fitted genexpon distribution with error=13.5145980215)\n",
      "Fitted genextreme distribution with error=13.9506698514)\n",
      "Fitted gengamma distribution with error=13.8155971359)\n",
      "Fitted genhalflogistic distribution with error=13.9522427459)\n",
      "Fitted genlogistic distribution with error=13.963691971)\n",
      "Fitted gennorm distribution with error=14.1779087407)\n",
      "Fitted genpareto distribution with error=17.0449157474)\n",
      "Fitted gilbrat distribution with error=13.8338979065)\n",
      "Fitted gompertz distribution with error=13.9623675196)\n",
      "Fitted gumbel_l distribution with error=15.1726620147)\n",
      "Fitted gumbel_r distribution with error=13.9677189994)\n",
      "Fitted halfcauchy distribution with error=15.1048047415)\n",
      "Fitted halfgennorm distribution with error=14.081584279)\n",
      "Fitted halflogistic distribution with error=14.3673797673)\n",
      "Fitted halfnorm distribution with error=14.2139536264)\n",
      "Fitted hypsecant distribution with error=14.6253144677)\n",
      "Fitted invgamma distribution with error=13.8594069434)\n",
      "Fitted invgauss distribution with error=13.7022003114)\n",
      "Fitted invweibull distribution with error=13.9506477637)\n",
      "Fitted johnsonsb distribution with error=13.436593942)\n",
      "Fitted johnsonsu distribution with error=13.7577997347)\n",
      "Fitted kappa3 distribution with error=14.1922891556)\n",
      "Fitted kappa4 distribution with error=14.877258362)\n",
      "Fitted ksone distribution with error=nan)\n",
      "Fitted kstwobign distribution with error=13.8511758998)\n",
      "Fitted laplace distribution with error=14.9408292518)\n",
      "Fitted levy distribution with error=15.2176239255)\n",
      "Fitted levy_l distribution with error=17.8846399299)\n",
      "SKIPPED levy_stable distribution (taking more than 30 seconds)\n",
      "Fitted loggamma distribution with error=14.4962623517)\n",
      "Fitted logistic distribution with error=14.5659354985)\n",
      "Fitted loglaplace distribution with error=14.9050944136)\n",
      "Fitted lognorm distribution with error=13.7607918487)\n",
      "Fitted lomax distribution with error=15.4254162773)\n",
      "Fitted maxwell distribution with error=14.1780848696)\n",
      "Fitted mielke distribution with error=13.9459800362)\n",
      "Fitted nakagami distribution with error=13.6850108848)\n",
      "Fitted ncf distribution with error=14.2061495414)\n",
      "Fitted nct distribution with error=14.0434960611)\n",
      "Fitted ncx2 distribution with error=19.2523135066)\n",
      "Fitted norm distribution with error=14.514055189)\n",
      "Fitted pareto distribution with error=16.5993142219)\n",
      "Fitted pearson3 distribution with error=13.6079151313)\n",
      "Fitted powerlaw distribution with error=14.8285526209)\n",
      "Fitted powerlognorm distribution with error=13.7437673313)\n",
      "Fitted powernorm distribution with error=nan)\n",
      "Fitted rayleigh distribution with error=13.9940900687)\n",
      "Fitted rdist distribution with error=14.4980024974)\n",
      "Fitted recipinvgauss distribution with error=13.6385209597)\n",
      "Fitted reciprocal distribution with error=21.4726801446)\n",
      "Fitted rice distribution with error=13.9940549349)\n",
      "SKIPPED rv_continuous distribution (taking more than 30 seconds)\n",
      "SKIPPED rv_histogram distribution (taking more than 30 seconds)\n",
      "Fitted semicircular distribution with error=14.502706419)\n",
      "Fitted skewnorm distribution with error=13.3608931238)\n",
      "Fitted t distribution with error=14.5139385481)\n",
      "Fitted trapz distribution with error=17.7735015313)\n",
      "Fitted triang distribution with error=13.3259713762)\n",
      "Fitted truncexpon distribution with error=14.2341245056)\n",
      "Fitted truncnorm distribution with error=21.4726801446)\n",
      "Fitted tukeylambda distribution with error=14.4774057934)\n",
      "Fitted uniform distribution with error=14.8095391715)\n",
      "Fitted vonmises distribution with error=9.66041029122e+66)\n",
      "Fitted vonmises_line distribution with error=14.7828581692)\n",
      "Fitted wald distribution with error=13.6450247857)\n",
      "Fitted weibull_max distribution with error=13.9675619004)\n",
      "Fitted weibull_min distribution with error=13.6662832876)\n",
      "Fitted wrapcauchy distribution with error=nan)\n"
     ]
    }
   ],
   "source": [
    "fi.fit()"
   ]
  },
  {
   "cell_type": "code",
   "execution_count": 188,
   "metadata": {
    "scrolled": false
   },
   "outputs": [
    {
     "data": {
      "text/plain": [
       "(0.11891974238218878, 3.9782874023967811, 4.1527886613961975)"
      ]
     },
     "execution_count": 188,
     "metadata": {},
     "output_type": "execute_result"
    }
   ],
   "source": [
    "fi.fitted_param['triang']"
   ]
  },
  {
   "cell_type": "code",
   "execution_count": 191,
   "metadata": {},
   "outputs": [],
   "source": [
    "sim = stats.triang.rvs(0.11891974238218878, 3.9782874023967811, 4.1527886613961975,size=len(df))"
   ]
  },
  {
   "cell_type": "code",
   "execution_count": 195,
   "metadata": {},
   "outputs": [],
   "source": [
    "df['sim'] = sim*sim"
   ]
  },
  {
   "cell_type": "code",
   "execution_count": 206,
   "metadata": {},
   "outputs": [
    {
     "data": {
      "text/plain": [
       "<matplotlib.axes._subplots.AxesSubplot at 0x7f4bbf1a6d10>"
      ]
     },
     "execution_count": 206,
     "metadata": {},
     "output_type": "execute_result"
    },
    {
     "data": {
      "image/png": "[encoded data removed]",
      "text/plain": [
       "<matplotlib.figure.Figure at 0x7f4bbf1b1390>"
      ]
     },
     "metadata": {},
     "output_type": "display_data"
    }
   ],
   "source": [
    "sns.distplot(df['Age'].sample(frac=0.01),hist=False,kde_kws=dict(cumulative=True))\n",
    "sns.distplot(df['sim'].sample(frac=0.01),hist=False,kde_kws=dict(cumulative=True))\n"
   ]
  },
  {
   "cell_type": "code",
   "execution_count": null,
   "metadata": {
    "collapsed": true
   },
   "outputs": [],
   "source": []
  }
 ],
 "metadata": {
  "kernelspec": {
   "display_name": "Python 2",
   "language": "python",
   "name": "python2"
  },
  "language_info": {
   "codemirror_mode": {
    "name": "ipython",
    "version": 2
   },
   "file_extension": ".py",
   "mimetype": "text/x-python",
   "name": "python",
   "nbconvert_exporter": "python",
   "pygments_lexer": "ipython2",
   "version": "2.7.12"
  }
 },
 "nbformat": 4,
 "nbformat_minor": 2
}
