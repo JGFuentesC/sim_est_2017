{
 "cells": [
  {
   "cell_type": "code",
   "execution_count": null,
   "metadata": {
    "collapsed": true
   },
   "outputs": [],
   "source": [
    "from __future__ import division\n",
    "import numpy as np\n",
    "import random\n",
    "import matplotlib.pyplot as plt\n",
    "import pygal\n",
    "import pandas as pd\n",
    "%matplotlib inline"
   ]
  },
  {
   "cell_type": "code",
   "execution_count": null,
   "metadata": {
    "collapsed": true
   },
   "outputs": [],
   "source": [
    "pasos = [(0,1),(1,0),(-1,0),(0,-1)]\n",
    "trampas = [(3,3),(-10,1),(7,-5)]"
   ]
  },
  {
   "cell_type": "code",
   "execution_count": null,
   "metadata": {
    "collapsed": true
   },
   "outputs": [],
   "source": [
    "def caminata(largo):\n",
    "    oxy = (0,0)\n",
    "    for i in range(largo):\n",
    "        oxy= tuple(map(lambda x, y: x + y,oxy,random.choice(pasos)))\n",
    "        if oxy in trampas:\n",
    "            #print \"caí en la trampa %d,%d\" % oxy\n",
    "            return i,oxy\n",
    "            break"
   ]
  },
  {
   "cell_type": "code",
   "execution_count": null,
   "metadata": {
    "collapsed": true
   },
   "outputs": [],
   "source": [
    "def sim(n,npasos):\n",
    "    lst_caida = []\n",
    "    for i in range(n):\n",
    "        paro = caminata(npasos)\n",
    "        if paro is not None:\n",
    "            lst_caida.append(paro)\n",
    "    df = pd.DataFrame(lst_caida,columns=['pasos','hoyo'])\n",
    "    print \"la probabilidad de caer en algún hoyo en a lo más %d pasos es %.2f\" % (npasos,len(df)/n)\n",
    "\n",
    "    print \"En promedio, se cae en una trampa a los %.1f pasos\" % df.pasos.mean() "
   ]
  },
  {
   "cell_type": "code",
   "execution_count": null,
   "metadata": {},
   "outputs": [],
   "source": [
    "%%time\n",
    "sim(10000,1000)"
   ]
  },
  {
   "cell_type": "code",
   "execution_count": null,
   "metadata": {
    "collapsed": true
   },
   "outputs": [],
   "source": [
    "def dibujar_caminata(largo):\n",
    "    lst_pasos = []\n",
    "    oxy = (0,0)\n",
    "    lst_pasos.append(oxy)\n",
    "    for i in range(largo):\n",
    "        oxy= tuple(map(lambda x, y: x + y,oxy,random.choice(pasos)))\n",
    "        lst_pasos.append(oxy)\n",
    "        if oxy in trampas:\n",
    "            #print \"caí en la trampa %d,%d\" % oxy\n",
    "            plot = pygal.XY()\n",
    "            plot.add('caminata',lst_pasos)\n",
    "            print lst_pasos[-1]\n",
    "            plot.add('trampa',[lst_pasos[-1]])\n",
    "            return plot\n",
    "            break"
   ]
  },
  {
   "cell_type": "code",
   "execution_count": null,
   "metadata": {},
   "outputs": [],
   "source": [
    "dibujar_caminata(30)"
   ]
  },
  {
   "cell_type": "code",
   "execution_count": null,
   "metadata": {
    "collapsed": true
   },
   "outputs": [],
   "source": []
  }
 ],
 "metadata": {
  "kernelspec": {
   "display_name": "Python 2",
   "language": "python",
   "name": "python2"
  },
  "language_info": {
   "codemirror_mode": {
    "name": "ipython",
    "version": 2
   },
   "file_extension": ".py",
   "mimetype": "text/x-python",
   "name": "python",
   "nbconvert_exporter": "python",
   "pygments_lexer": "ipython2",
   "version": "2.7.12"
  }
 },
 "nbformat": 4,
 "nbformat_minor": 2
}
