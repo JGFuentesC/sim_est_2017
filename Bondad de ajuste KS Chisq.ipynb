{
 "cells": [
  {
   "cell_type": "code",
   "execution_count": 1,
   "metadata": {
    "collapsed": true
   },
   "outputs": [],
   "source": [
    "from __future__ import division\n",
    "import pandas as pd\n",
    "import numpy as np\n",
    "from scipy import stats\n",
    "import matplotlib.pyplot as plt\n",
    "%matplotlib inline"
   ]
  },
  {
   "cell_type": "code",
   "execution_count": 2,
   "metadata": {
    "collapsed": true
   },
   "outputs": [],
   "source": [
    "data = stats.uniform.rvs(size=10000)"
   ]
  },
  {
   "cell_type": "code",
   "execution_count": 3,
   "metadata": {},
   "outputs": [
    {
     "data": {
      "text/plain": [
       "<matplotlib.axes._subplots.AxesSubplot at 0x7f1c0ecdd590>"
      ]
     },
     "execution_count": 3,
     "metadata": {},
     "output_type": "execute_result"
    },
    {
     "data": {
      "image/png": "[encoded data removed]",
      "text/plain": [
       "<matplotlib.figure.Figure at 0x7f1c0ecb9e50>"
      ]
     },
     "metadata": {},
     "output_type": "display_data"
    }
   ],
   "source": [
    "pd.Series(data).hist()"
   ]
  },
  {
   "cell_type": "markdown",
   "metadata": {},
   "source": [
    "#### Chisq "
   ]
  },
  {
   "cell_type": "code",
   "execution_count": 4,
   "metadata": {
    "collapsed": true
   },
   "outputs": [],
   "source": [
    "df = pd.DataFrame(data,columns=['uni'])\n",
    "df['bin'] = pd.cut(df.uni,bins=np.arange(0,1.1,0.1),\n",
    "                   include_lowest=True).astype(str)\n",
    "df['n'] = 1"
   ]
  },
  {
   "cell_type": "code",
   "execution_count": 5,
   "metadata": {
    "collapsed": true
   },
   "outputs": [],
   "source": [
    "aux = df[['bin','n']].groupby('bin').sum().reset_index()\n",
    "aux['e'] = len(df)/len(aux)\n",
    "aux['chi'] = ((aux.n-aux.e)**2)/aux.e"
   ]
  },
  {
   "cell_type": "code",
   "execution_count": 6,
   "metadata": {},
   "outputs": [
    {
     "data": {
      "text/plain": [
       "8.8079999999999998"
      ]
     },
     "execution_count": 6,
     "metadata": {},
     "output_type": "execute_result"
    }
   ],
   "source": [
    "#Estadígrafo de prueba\n",
    "aux.chi.sum()"
   ]
  },
  {
   "cell_type": "code",
   "execution_count": 7,
   "metadata": {},
   "outputs": [
    {
     "name": "stdout",
     "output_type": "stream",
     "text": [
      "valor crítico: 16.919, valor estadígrafo: 8.808\n",
      "alpha=0.05, p-value=0.46\n",
      "Power_divergenceResult(statistic=8.8079999999999998, pvalue=0.45518309941910695)\n"
     ]
    }
   ],
   "source": [
    "# Probar valor crítico vs valor de estadígrafo de prueba\n",
    "\"\"\"\n",
    " H0: Los datos son estadísticamente iguales a los valores esperados\n",
    " Ha: Los datos no son estadísticamente iguales de los valores esperados\n",
    "\"\"\"\n",
    "print \"valor crítico: %.3f, valor estadígrafo: %.3f\"% ( \n",
    "    stats.chi2.ppf(0.95,9),\n",
    "    aux.chi.sum()\n",
    ")\n",
    "print \"alpha=%.2f, p-value=%.2f\"%(\n",
    "    0.05,\n",
    "    1-stats.chi2.cdf(aux.chi.sum(),9)\n",
    ")\n",
    "\"\"\"\n",
    "Al ser el p-value mayor al nivel de significancia, \n",
    "no podemos rechazar H0, en consecuencia, no se puede concluir \n",
    "que las proporciones observadas son significativamente diferentes\n",
    "de las proporciones esperadas. Si consideramos los valores del\n",
    "estadígrafo en lugar de los p-value, tenemos que el estadígrafo\n",
    "no cae en la zona de rechazo, por tanto, no puede rechazarse H0,\n",
    "luego entonces, no podemos afirmar que los datos son estadísticamente\n",
    "diferentes\n",
    "\"\"\" \n",
    "\n",
    "#También se puede hacer la prueba directamente con scipy:\n",
    "\n",
    "print stats.chisquare(f_obs=aux.n,f_exp=aux.e)"
   ]
  },
  {
   "cell_type": "markdown",
   "metadata": {},
   "source": [
    "#### KS"
   ]
  },
  {
   "cell_type": "code",
   "execution_count": 8,
   "metadata": {},
   "outputs": [],
   "source": [
    "data = np.sort(stats.norm.rvs(size=10000))\n",
    "N = len(data)\n",
    "cdf = stats.norm.cdf(data)\n",
    "D = np.abs(cdf-np.arange(1,N+1)/N).max()"
   ]
  },
  {
   "cell_type": "code",
   "execution_count": 9,
   "metadata": {},
   "outputs": [
    {
     "name": "stdout",
     "output_type": "stream",
     "text": [
      "Estadígrafo de prueba: 0.00850, p-value:0.46543\n",
      "KstestResult(statistic=0.0085992534792606046, pvalue=0.45036692640540676)\n"
     ]
    }
   ],
   "source": [
    "\"\"\"\n",
    "La prueba KS prueba la hipótesis:\n",
    "\n",
    "H0: Los datos siguen la distribución especificada\n",
    "Ha: Los datos no siguen la distribución especificada\n",
    "\n",
    "Se calcula CDF para toda la muestra y se compara con la frecuencia relativa acumulada,\n",
    "H0 se rechaza cuando p-value<alpha\n",
    "\"\"\"\n",
    "\n",
    "print \"Estadígrafo de prueba: %.5f, p-value:%.5f\"%(D,stats.kstwobign.sf(D * np.sqrt(N)))\n",
    "#Scipy, cuenta con la prueba KS\n",
    "print stats.kstest(data,cdf='norm',N=10000)"
   ]
  },
  {
   "cell_type": "code",
   "execution_count": null,
   "metadata": {
    "collapsed": true
   },
   "outputs": [],
   "source": []
  }
 ],
 "metadata": {
  "kernelspec": {
   "display_name": "Python 2",
   "language": "python",
   "name": "python2"
  },
  "language_info": {
   "codemirror_mode": {
    "name": "ipython",
    "version": 2
   },
   "file_extension": ".py",
   "mimetype": "text/x-python",
   "name": "python",
   "nbconvert_exporter": "python",
   "pygments_lexer": "ipython2",
   "version": "2.7.12"
  }
 },
 "nbformat": 4,
 "nbformat_minor": 2
}
